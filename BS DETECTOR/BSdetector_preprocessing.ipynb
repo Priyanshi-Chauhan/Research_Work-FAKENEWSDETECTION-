{
 "cells": [
  {
   "cell_type": "markdown",
   "metadata": {},
   "source": [
    "# Importing libraries"
   ]
  },
  {
   "cell_type": "code",
   "execution_count": 1,
   "metadata": {},
   "outputs": [],
   "source": [
    "import numpy as np\n",
    "import pandas as pd\n",
    "from numpy import array"
   ]
  },
  {
   "cell_type": "markdown",
   "metadata": {},
   "source": [
    "# Exploratory Data Analysis"
   ]
  },
  {
   "cell_type": "code",
   "execution_count": 2,
   "metadata": {},
   "outputs": [
    {
     "name": "stdout",
     "output_type": "stream",
     "text": [
      "(12999, 20)\n"
     ]
    },
    {
     "data": {
      "text/html": [
       "<div>\n",
       "<style scoped>\n",
       "    .dataframe tbody tr th:only-of-type {\n",
       "        vertical-align: middle;\n",
       "    }\n",
       "\n",
       "    .dataframe tbody tr th {\n",
       "        vertical-align: top;\n",
       "    }\n",
       "\n",
       "    .dataframe thead th {\n",
       "        text-align: right;\n",
       "    }\n",
       "</style>\n",
       "<table border=\"1\" class=\"dataframe\">\n",
       "  <thead>\n",
       "    <tr style=\"text-align: right;\">\n",
       "      <th></th>\n",
       "      <th>uuid</th>\n",
       "      <th>ord_in_thread</th>\n",
       "      <th>author</th>\n",
       "      <th>published</th>\n",
       "      <th>title</th>\n",
       "      <th>text</th>\n",
       "      <th>language</th>\n",
       "      <th>crawled</th>\n",
       "      <th>site_url</th>\n",
       "      <th>country</th>\n",
       "      <th>domain_rank</th>\n",
       "      <th>thread_title</th>\n",
       "      <th>spam_score</th>\n",
       "      <th>main_img_url</th>\n",
       "      <th>replies_count</th>\n",
       "      <th>participants_count</th>\n",
       "      <th>likes</th>\n",
       "      <th>comments</th>\n",
       "      <th>shares</th>\n",
       "      <th>type</th>\n",
       "    </tr>\n",
       "  </thead>\n",
       "  <tbody>\n",
       "    <tr>\n",
       "      <th>0</th>\n",
       "      <td>6a175f46bcd24d39b3e962ad0f29936721db70db</td>\n",
       "      <td>0</td>\n",
       "      <td>Barracuda Brigade</td>\n",
       "      <td>2016-10-26T21:41:00.000+03:00</td>\n",
       "      <td>Muslims BUSTED: They Stole Millions In Gov’t B...</td>\n",
       "      <td>Print They should pay all the back all the mon...</td>\n",
       "      <td>english</td>\n",
       "      <td>2016-10-27T01:49:27.168+03:00</td>\n",
       "      <td>100percentfedup.com</td>\n",
       "      <td>US</td>\n",
       "      <td>25689.0</td>\n",
       "      <td>Muslims BUSTED: They Stole Millions In Gov’t B...</td>\n",
       "      <td>0.000</td>\n",
       "      <td>http://bb4sp.com/wp-content/uploads/2016/10/Fu...</td>\n",
       "      <td>0</td>\n",
       "      <td>1</td>\n",
       "      <td>0</td>\n",
       "      <td>0</td>\n",
       "      <td>0</td>\n",
       "      <td>bias</td>\n",
       "    </tr>\n",
       "    <tr>\n",
       "      <th>1</th>\n",
       "      <td>2bdc29d12605ef9cf3f09f9875040a7113be5d5b</td>\n",
       "      <td>0</td>\n",
       "      <td>reasoning with facts</td>\n",
       "      <td>2016-10-29T08:47:11.259+03:00</td>\n",
       "      <td>Re: Why Did Attorney General Loretta Lynch Ple...</td>\n",
       "      <td>Why Did Attorney General Loretta Lynch Plead T...</td>\n",
       "      <td>english</td>\n",
       "      <td>2016-10-29T08:47:11.259+03:00</td>\n",
       "      <td>100percentfedup.com</td>\n",
       "      <td>US</td>\n",
       "      <td>25689.0</td>\n",
       "      <td>Re: Why Did Attorney General Loretta Lynch Ple...</td>\n",
       "      <td>0.000</td>\n",
       "      <td>http://bb4sp.com/wp-content/uploads/2016/10/Fu...</td>\n",
       "      <td>0</td>\n",
       "      <td>1</td>\n",
       "      <td>0</td>\n",
       "      <td>0</td>\n",
       "      <td>0</td>\n",
       "      <td>bias</td>\n",
       "    </tr>\n",
       "    <tr>\n",
       "      <th>2</th>\n",
       "      <td>c70e149fdd53de5e61c29281100b9de0ed268bc3</td>\n",
       "      <td>0</td>\n",
       "      <td>Barracuda Brigade</td>\n",
       "      <td>2016-10-31T01:41:49.479+02:00</td>\n",
       "      <td>BREAKING: Weiner Cooperating With FBI On Hilla...</td>\n",
       "      <td>Red State : \\nFox News Sunday reported this mo...</td>\n",
       "      <td>english</td>\n",
       "      <td>2016-10-31T01:41:49.479+02:00</td>\n",
       "      <td>100percentfedup.com</td>\n",
       "      <td>US</td>\n",
       "      <td>25689.0</td>\n",
       "      <td>BREAKING: Weiner Cooperating With FBI On Hilla...</td>\n",
       "      <td>0.000</td>\n",
       "      <td>http://bb4sp.com/wp-content/uploads/2016/10/Fu...</td>\n",
       "      <td>0</td>\n",
       "      <td>1</td>\n",
       "      <td>0</td>\n",
       "      <td>0</td>\n",
       "      <td>0</td>\n",
       "      <td>bias</td>\n",
       "    </tr>\n",
       "    <tr>\n",
       "      <th>3</th>\n",
       "      <td>7cf7c15731ac2a116dd7f629bd57ea468ed70284</td>\n",
       "      <td>0</td>\n",
       "      <td>Fed Up</td>\n",
       "      <td>2016-11-01T05:22:00.000+02:00</td>\n",
       "      <td>PIN DROP SPEECH BY FATHER OF DAUGHTER Kidnappe...</td>\n",
       "      <td>Email Kayla Mueller was a prisoner and torture...</td>\n",
       "      <td>english</td>\n",
       "      <td>2016-11-01T15:46:26.304+02:00</td>\n",
       "      <td>100percentfedup.com</td>\n",
       "      <td>US</td>\n",
       "      <td>25689.0</td>\n",
       "      <td>PIN DROP SPEECH BY FATHER OF DAUGHTER Kidnappe...</td>\n",
       "      <td>0.068</td>\n",
       "      <td>http://100percentfedup.com/wp-content/uploads/...</td>\n",
       "      <td>0</td>\n",
       "      <td>0</td>\n",
       "      <td>0</td>\n",
       "      <td>0</td>\n",
       "      <td>0</td>\n",
       "      <td>bias</td>\n",
       "    </tr>\n",
       "    <tr>\n",
       "      <th>4</th>\n",
       "      <td>0206b54719c7e241ffe0ad4315b808290dbe6c0f</td>\n",
       "      <td>0</td>\n",
       "      <td>Fed Up</td>\n",
       "      <td>2016-11-01T21:56:00.000+02:00</td>\n",
       "      <td>FANTASTIC! TRUMP'S 7 POINT PLAN To Reform Heal...</td>\n",
       "      <td>Email HEALTHCARE REFORM TO MAKE AMERICA GREAT ...</td>\n",
       "      <td>english</td>\n",
       "      <td>2016-11-01T23:59:42.266+02:00</td>\n",
       "      <td>100percentfedup.com</td>\n",
       "      <td>US</td>\n",
       "      <td>25689.0</td>\n",
       "      <td>FANTASTIC! TRUMP'S 7 POINT PLAN To Reform Heal...</td>\n",
       "      <td>0.865</td>\n",
       "      <td>http://100percentfedup.com/wp-content/uploads/...</td>\n",
       "      <td>0</td>\n",
       "      <td>0</td>\n",
       "      <td>0</td>\n",
       "      <td>0</td>\n",
       "      <td>0</td>\n",
       "      <td>bias</td>\n",
       "    </tr>\n",
       "  </tbody>\n",
       "</table>\n",
       "</div>"
      ],
      "text/plain": [
       "                                       uuid  ord_in_thread  \\\n",
       "0  6a175f46bcd24d39b3e962ad0f29936721db70db              0   \n",
       "1  2bdc29d12605ef9cf3f09f9875040a7113be5d5b              0   \n",
       "2  c70e149fdd53de5e61c29281100b9de0ed268bc3              0   \n",
       "3  7cf7c15731ac2a116dd7f629bd57ea468ed70284              0   \n",
       "4  0206b54719c7e241ffe0ad4315b808290dbe6c0f              0   \n",
       "\n",
       "                 author                      published  \\\n",
       "0     Barracuda Brigade  2016-10-26T21:41:00.000+03:00   \n",
       "1  reasoning with facts  2016-10-29T08:47:11.259+03:00   \n",
       "2     Barracuda Brigade  2016-10-31T01:41:49.479+02:00   \n",
       "3                Fed Up  2016-11-01T05:22:00.000+02:00   \n",
       "4                Fed Up  2016-11-01T21:56:00.000+02:00   \n",
       "\n",
       "                                               title  \\\n",
       "0  Muslims BUSTED: They Stole Millions In Gov’t B...   \n",
       "1  Re: Why Did Attorney General Loretta Lynch Ple...   \n",
       "2  BREAKING: Weiner Cooperating With FBI On Hilla...   \n",
       "3  PIN DROP SPEECH BY FATHER OF DAUGHTER Kidnappe...   \n",
       "4  FANTASTIC! TRUMP'S 7 POINT PLAN To Reform Heal...   \n",
       "\n",
       "                                                text language  \\\n",
       "0  Print They should pay all the back all the mon...  english   \n",
       "1  Why Did Attorney General Loretta Lynch Plead T...  english   \n",
       "2  Red State : \\nFox News Sunday reported this mo...  english   \n",
       "3  Email Kayla Mueller was a prisoner and torture...  english   \n",
       "4  Email HEALTHCARE REFORM TO MAKE AMERICA GREAT ...  english   \n",
       "\n",
       "                         crawled             site_url country  domain_rank  \\\n",
       "0  2016-10-27T01:49:27.168+03:00  100percentfedup.com      US      25689.0   \n",
       "1  2016-10-29T08:47:11.259+03:00  100percentfedup.com      US      25689.0   \n",
       "2  2016-10-31T01:41:49.479+02:00  100percentfedup.com      US      25689.0   \n",
       "3  2016-11-01T15:46:26.304+02:00  100percentfedup.com      US      25689.0   \n",
       "4  2016-11-01T23:59:42.266+02:00  100percentfedup.com      US      25689.0   \n",
       "\n",
       "                                        thread_title  spam_score  \\\n",
       "0  Muslims BUSTED: They Stole Millions In Gov’t B...       0.000   \n",
       "1  Re: Why Did Attorney General Loretta Lynch Ple...       0.000   \n",
       "2  BREAKING: Weiner Cooperating With FBI On Hilla...       0.000   \n",
       "3  PIN DROP SPEECH BY FATHER OF DAUGHTER Kidnappe...       0.068   \n",
       "4  FANTASTIC! TRUMP'S 7 POINT PLAN To Reform Heal...       0.865   \n",
       "\n",
       "                                        main_img_url  replies_count  \\\n",
       "0  http://bb4sp.com/wp-content/uploads/2016/10/Fu...              0   \n",
       "1  http://bb4sp.com/wp-content/uploads/2016/10/Fu...              0   \n",
       "2  http://bb4sp.com/wp-content/uploads/2016/10/Fu...              0   \n",
       "3  http://100percentfedup.com/wp-content/uploads/...              0   \n",
       "4  http://100percentfedup.com/wp-content/uploads/...              0   \n",
       "\n",
       "   participants_count  likes  comments  shares  type  \n",
       "0                   1      0         0       0  bias  \n",
       "1                   1      0         0       0  bias  \n",
       "2                   1      0         0       0  bias  \n",
       "3                   0      0         0       0  bias  \n",
       "4                   0      0         0       0  bias  "
      ]
     },
     "execution_count": 2,
     "metadata": {},
     "output_type": "execute_result"
    }
   ],
   "source": [
    "df = pd.read_csv('fake.csv')\n",
    "print(df.shape)\n",
    "df.head()"
   ]
  },
  {
   "cell_type": "code",
   "execution_count": 3,
   "metadata": {},
   "outputs": [
    {
     "data": {
      "text/plain": [
       "Index(['uuid', 'ord_in_thread', 'author', 'published', 'title', 'text',\n",
       "       'language', 'crawled', 'site_url', 'country', 'domain_rank',\n",
       "       'thread_title', 'spam_score', 'main_img_url', 'replies_count',\n",
       "       'participants_count', 'likes', 'comments', 'shares', 'type'],\n",
       "      dtype='object')"
      ]
     },
     "execution_count": 3,
     "metadata": {},
     "output_type": "execute_result"
    }
   ],
   "source": [
    "df.columns"
   ]
  },
  {
   "cell_type": "code",
   "execution_count": 4,
   "metadata": {},
   "outputs": [
    {
     "name": "stdout",
     "output_type": "stream",
     "text": [
      "<class 'pandas.core.frame.DataFrame'>\n",
      "RangeIndex: 12999 entries, 0 to 12998\n",
      "Data columns (total 20 columns):\n",
      " #   Column              Non-Null Count  Dtype  \n",
      "---  ------              --------------  -----  \n",
      " 0   uuid                12999 non-null  object \n",
      " 1   ord_in_thread       12999 non-null  int64  \n",
      " 2   author              10575 non-null  object \n",
      " 3   published           12999 non-null  object \n",
      " 4   title               12319 non-null  object \n",
      " 5   text                12953 non-null  object \n",
      " 6   language            12999 non-null  object \n",
      " 7   crawled             12999 non-null  object \n",
      " 8   site_url            12999 non-null  object \n",
      " 9   country             12823 non-null  object \n",
      " 10  domain_rank         8776 non-null   float64\n",
      " 11  thread_title        12987 non-null  object \n",
      " 12  spam_score          12999 non-null  float64\n",
      " 13  main_img_url        9356 non-null   object \n",
      " 14  replies_count       12999 non-null  int64  \n",
      " 15  participants_count  12999 non-null  int64  \n",
      " 16  likes               12999 non-null  int64  \n",
      " 17  comments            12999 non-null  int64  \n",
      " 18  shares              12999 non-null  int64  \n",
      " 19  type                12999 non-null  object \n",
      "dtypes: float64(2), int64(6), object(12)\n",
      "memory usage: 2.0+ MB\n"
     ]
    }
   ],
   "source": [
    "df.info()"
   ]
  },
  {
   "cell_type": "code",
   "execution_count": 5,
   "metadata": {},
   "outputs": [
    {
     "data": {
      "text/html": [
       "<div>\n",
       "<style scoped>\n",
       "    .dataframe tbody tr th:only-of-type {\n",
       "        vertical-align: middle;\n",
       "    }\n",
       "\n",
       "    .dataframe tbody tr th {\n",
       "        vertical-align: top;\n",
       "    }\n",
       "\n",
       "    .dataframe thead th {\n",
       "        text-align: right;\n",
       "    }\n",
       "</style>\n",
       "<table border=\"1\" class=\"dataframe\">\n",
       "  <thead>\n",
       "    <tr style=\"text-align: right;\">\n",
       "      <th></th>\n",
       "      <th>uuid</th>\n",
       "      <th>ord_in_thread</th>\n",
       "      <th>author</th>\n",
       "      <th>published</th>\n",
       "      <th>title</th>\n",
       "      <th>text</th>\n",
       "      <th>language</th>\n",
       "      <th>crawled</th>\n",
       "      <th>site_url</th>\n",
       "      <th>country</th>\n",
       "      <th>domain_rank</th>\n",
       "      <th>thread_title</th>\n",
       "      <th>spam_score</th>\n",
       "      <th>main_img_url</th>\n",
       "      <th>replies_count</th>\n",
       "      <th>participants_count</th>\n",
       "      <th>likes</th>\n",
       "      <th>comments</th>\n",
       "      <th>shares</th>\n",
       "      <th>type</th>\n",
       "    </tr>\n",
       "  </thead>\n",
       "  <tbody>\n",
       "    <tr>\n",
       "      <th>count</th>\n",
       "      <td>12999</td>\n",
       "      <td>12999.000000</td>\n",
       "      <td>10575</td>\n",
       "      <td>12999</td>\n",
       "      <td>12319</td>\n",
       "      <td>12953</td>\n",
       "      <td>12999</td>\n",
       "      <td>12999</td>\n",
       "      <td>12999</td>\n",
       "      <td>12823</td>\n",
       "      <td>8776.000000</td>\n",
       "      <td>12987</td>\n",
       "      <td>12999.000000</td>\n",
       "      <td>9356</td>\n",
       "      <td>12999.000000</td>\n",
       "      <td>12999.000000</td>\n",
       "      <td>12999.000000</td>\n",
       "      <td>12999.000000</td>\n",
       "      <td>12999.000000</td>\n",
       "      <td>12999</td>\n",
       "    </tr>\n",
       "    <tr>\n",
       "      <th>unique</th>\n",
       "      <td>12999</td>\n",
       "      <td>NaN</td>\n",
       "      <td>2259</td>\n",
       "      <td>11973</td>\n",
       "      <td>11698</td>\n",
       "      <td>12431</td>\n",
       "      <td>16</td>\n",
       "      <td>12997</td>\n",
       "      <td>244</td>\n",
       "      <td>24</td>\n",
       "      <td>NaN</td>\n",
       "      <td>11788</td>\n",
       "      <td>NaN</td>\n",
       "      <td>7684</td>\n",
       "      <td>NaN</td>\n",
       "      <td>NaN</td>\n",
       "      <td>NaN</td>\n",
       "      <td>NaN</td>\n",
       "      <td>NaN</td>\n",
       "      <td>8</td>\n",
       "    </tr>\n",
       "    <tr>\n",
       "      <th>top</th>\n",
       "      <td>a20ec40f282359bacf60ca0e1da119e883528960</td>\n",
       "      <td>NaN</td>\n",
       "      <td>admin</td>\n",
       "      <td>2016-10-27T03:00:00.000+03:00</td>\n",
       "      <td>Get Ready For Civil Unrest: Survey Finds That ...</td>\n",
       "      <td></td>\n",
       "      <td>english</td>\n",
       "      <td>2016-11-08T01:28:01.428+02:00</td>\n",
       "      <td>antiwar.com</td>\n",
       "      <td>US</td>\n",
       "      <td>NaN</td>\n",
       "      <td>WH Press Secretary Says Obama's Denial About C...</td>\n",
       "      <td>NaN</td>\n",
       "      <td>http://www.fromthetrenchesworldreport.com/wp-c...</td>\n",
       "      <td>NaN</td>\n",
       "      <td>NaN</td>\n",
       "      <td>NaN</td>\n",
       "      <td>NaN</td>\n",
       "      <td>NaN</td>\n",
       "      <td>bs</td>\n",
       "    </tr>\n",
       "    <tr>\n",
       "      <th>freq</th>\n",
       "      <td>1</td>\n",
       "      <td>NaN</td>\n",
       "      <td>247</td>\n",
       "      <td>59</td>\n",
       "      <td>7</td>\n",
       "      <td>106</td>\n",
       "      <td>12403</td>\n",
       "      <td>2</td>\n",
       "      <td>100</td>\n",
       "      <td>10367</td>\n",
       "      <td>NaN</td>\n",
       "      <td>44</td>\n",
       "      <td>NaN</td>\n",
       "      <td>100</td>\n",
       "      <td>NaN</td>\n",
       "      <td>NaN</td>\n",
       "      <td>NaN</td>\n",
       "      <td>NaN</td>\n",
       "      <td>NaN</td>\n",
       "      <td>11492</td>\n",
       "    </tr>\n",
       "    <tr>\n",
       "      <th>mean</th>\n",
       "      <td>NaN</td>\n",
       "      <td>0.891530</td>\n",
       "      <td>NaN</td>\n",
       "      <td>NaN</td>\n",
       "      <td>NaN</td>\n",
       "      <td>NaN</td>\n",
       "      <td>NaN</td>\n",
       "      <td>NaN</td>\n",
       "      <td>NaN</td>\n",
       "      <td>NaN</td>\n",
       "      <td>38092.996582</td>\n",
       "      <td>NaN</td>\n",
       "      <td>0.026122</td>\n",
       "      <td>NaN</td>\n",
       "      <td>1.383183</td>\n",
       "      <td>1.727518</td>\n",
       "      <td>10.831833</td>\n",
       "      <td>0.038311</td>\n",
       "      <td>10.831833</td>\n",
       "      <td>NaN</td>\n",
       "    </tr>\n",
       "    <tr>\n",
       "      <th>std</th>\n",
       "      <td>NaN</td>\n",
       "      <td>6.486822</td>\n",
       "      <td>NaN</td>\n",
       "      <td>NaN</td>\n",
       "      <td>NaN</td>\n",
       "      <td>NaN</td>\n",
       "      <td>NaN</td>\n",
       "      <td>NaN</td>\n",
       "      <td>NaN</td>\n",
       "      <td>NaN</td>\n",
       "      <td>26825.487454</td>\n",
       "      <td>NaN</td>\n",
       "      <td>0.122889</td>\n",
       "      <td>NaN</td>\n",
       "      <td>9.656838</td>\n",
       "      <td>6.884239</td>\n",
       "      <td>79.798949</td>\n",
       "      <td>0.827335</td>\n",
       "      <td>79.798949</td>\n",
       "      <td>NaN</td>\n",
       "    </tr>\n",
       "    <tr>\n",
       "      <th>min</th>\n",
       "      <td>NaN</td>\n",
       "      <td>0.000000</td>\n",
       "      <td>NaN</td>\n",
       "      <td>NaN</td>\n",
       "      <td>NaN</td>\n",
       "      <td>NaN</td>\n",
       "      <td>NaN</td>\n",
       "      <td>NaN</td>\n",
       "      <td>NaN</td>\n",
       "      <td>NaN</td>\n",
       "      <td>486.000000</td>\n",
       "      <td>NaN</td>\n",
       "      <td>0.000000</td>\n",
       "      <td>NaN</td>\n",
       "      <td>0.000000</td>\n",
       "      <td>0.000000</td>\n",
       "      <td>0.000000</td>\n",
       "      <td>0.000000</td>\n",
       "      <td>0.000000</td>\n",
       "      <td>NaN</td>\n",
       "    </tr>\n",
       "    <tr>\n",
       "      <th>25%</th>\n",
       "      <td>NaN</td>\n",
       "      <td>0.000000</td>\n",
       "      <td>NaN</td>\n",
       "      <td>NaN</td>\n",
       "      <td>NaN</td>\n",
       "      <td>NaN</td>\n",
       "      <td>NaN</td>\n",
       "      <td>NaN</td>\n",
       "      <td>NaN</td>\n",
       "      <td>NaN</td>\n",
       "      <td>17423.000000</td>\n",
       "      <td>NaN</td>\n",
       "      <td>0.000000</td>\n",
       "      <td>NaN</td>\n",
       "      <td>0.000000</td>\n",
       "      <td>1.000000</td>\n",
       "      <td>0.000000</td>\n",
       "      <td>0.000000</td>\n",
       "      <td>0.000000</td>\n",
       "      <td>NaN</td>\n",
       "    </tr>\n",
       "    <tr>\n",
       "      <th>50%</th>\n",
       "      <td>NaN</td>\n",
       "      <td>0.000000</td>\n",
       "      <td>NaN</td>\n",
       "      <td>NaN</td>\n",
       "      <td>NaN</td>\n",
       "      <td>NaN</td>\n",
       "      <td>NaN</td>\n",
       "      <td>NaN</td>\n",
       "      <td>NaN</td>\n",
       "      <td>NaN</td>\n",
       "      <td>34478.000000</td>\n",
       "      <td>NaN</td>\n",
       "      <td>0.000000</td>\n",
       "      <td>NaN</td>\n",
       "      <td>0.000000</td>\n",
       "      <td>1.000000</td>\n",
       "      <td>0.000000</td>\n",
       "      <td>0.000000</td>\n",
       "      <td>0.000000</td>\n",
       "      <td>NaN</td>\n",
       "    </tr>\n",
       "    <tr>\n",
       "      <th>75%</th>\n",
       "      <td>NaN</td>\n",
       "      <td>0.000000</td>\n",
       "      <td>NaN</td>\n",
       "      <td>NaN</td>\n",
       "      <td>NaN</td>\n",
       "      <td>NaN</td>\n",
       "      <td>NaN</td>\n",
       "      <td>NaN</td>\n",
       "      <td>NaN</td>\n",
       "      <td>NaN</td>\n",
       "      <td>60570.000000</td>\n",
       "      <td>NaN</td>\n",
       "      <td>0.000000</td>\n",
       "      <td>NaN</td>\n",
       "      <td>0.000000</td>\n",
       "      <td>1.000000</td>\n",
       "      <td>0.000000</td>\n",
       "      <td>0.000000</td>\n",
       "      <td>0.000000</td>\n",
       "      <td>NaN</td>\n",
       "    </tr>\n",
       "    <tr>\n",
       "      <th>max</th>\n",
       "      <td>NaN</td>\n",
       "      <td>100.000000</td>\n",
       "      <td>NaN</td>\n",
       "      <td>NaN</td>\n",
       "      <td>NaN</td>\n",
       "      <td>NaN</td>\n",
       "      <td>NaN</td>\n",
       "      <td>NaN</td>\n",
       "      <td>NaN</td>\n",
       "      <td>NaN</td>\n",
       "      <td>98679.000000</td>\n",
       "      <td>NaN</td>\n",
       "      <td>1.000000</td>\n",
       "      <td>NaN</td>\n",
       "      <td>309.000000</td>\n",
       "      <td>240.000000</td>\n",
       "      <td>988.000000</td>\n",
       "      <td>65.000000</td>\n",
       "      <td>988.000000</td>\n",
       "      <td>NaN</td>\n",
       "    </tr>\n",
       "  </tbody>\n",
       "</table>\n",
       "</div>"
      ],
      "text/plain": [
       "                                            uuid  ord_in_thread author  \\\n",
       "count                                      12999   12999.000000  10575   \n",
       "unique                                     12999            NaN   2259   \n",
       "top     a20ec40f282359bacf60ca0e1da119e883528960            NaN  admin   \n",
       "freq                                           1            NaN    247   \n",
       "mean                                         NaN       0.891530    NaN   \n",
       "std                                          NaN       6.486822    NaN   \n",
       "min                                          NaN       0.000000    NaN   \n",
       "25%                                          NaN       0.000000    NaN   \n",
       "50%                                          NaN       0.000000    NaN   \n",
       "75%                                          NaN       0.000000    NaN   \n",
       "max                                          NaN     100.000000    NaN   \n",
       "\n",
       "                            published  \\\n",
       "count                           12999   \n",
       "unique                          11973   \n",
       "top     2016-10-27T03:00:00.000+03:00   \n",
       "freq                               59   \n",
       "mean                              NaN   \n",
       "std                               NaN   \n",
       "min                               NaN   \n",
       "25%                               NaN   \n",
       "50%                               NaN   \n",
       "75%                               NaN   \n",
       "max                               NaN   \n",
       "\n",
       "                                                    title   text language  \\\n",
       "count                                               12319  12953    12999   \n",
       "unique                                              11698  12431       16   \n",
       "top     Get Ready For Civil Unrest: Survey Finds That ...         english   \n",
       "freq                                                    7    106    12403   \n",
       "mean                                                  NaN    NaN      NaN   \n",
       "std                                                   NaN    NaN      NaN   \n",
       "min                                                   NaN    NaN      NaN   \n",
       "25%                                                   NaN    NaN      NaN   \n",
       "50%                                                   NaN    NaN      NaN   \n",
       "75%                                                   NaN    NaN      NaN   \n",
       "max                                                   NaN    NaN      NaN   \n",
       "\n",
       "                              crawled     site_url country   domain_rank  \\\n",
       "count                           12999        12999   12823   8776.000000   \n",
       "unique                          12997          244      24           NaN   \n",
       "top     2016-11-08T01:28:01.428+02:00  antiwar.com      US           NaN   \n",
       "freq                                2          100   10367           NaN   \n",
       "mean                              NaN          NaN     NaN  38092.996582   \n",
       "std                               NaN          NaN     NaN  26825.487454   \n",
       "min                               NaN          NaN     NaN    486.000000   \n",
       "25%                               NaN          NaN     NaN  17423.000000   \n",
       "50%                               NaN          NaN     NaN  34478.000000   \n",
       "75%                               NaN          NaN     NaN  60570.000000   \n",
       "max                               NaN          NaN     NaN  98679.000000   \n",
       "\n",
       "                                             thread_title    spam_score  \\\n",
       "count                                               12987  12999.000000   \n",
       "unique                                              11788           NaN   \n",
       "top     WH Press Secretary Says Obama's Denial About C...           NaN   \n",
       "freq                                                   44           NaN   \n",
       "mean                                                  NaN      0.026122   \n",
       "std                                                   NaN      0.122889   \n",
       "min                                                   NaN      0.000000   \n",
       "25%                                                   NaN      0.000000   \n",
       "50%                                                   NaN      0.000000   \n",
       "75%                                                   NaN      0.000000   \n",
       "max                                                   NaN      1.000000   \n",
       "\n",
       "                                             main_img_url  replies_count  \\\n",
       "count                                                9356   12999.000000   \n",
       "unique                                               7684            NaN   \n",
       "top     http://www.fromthetrenchesworldreport.com/wp-c...            NaN   \n",
       "freq                                                  100            NaN   \n",
       "mean                                                  NaN       1.383183   \n",
       "std                                                   NaN       9.656838   \n",
       "min                                                   NaN       0.000000   \n",
       "25%                                                   NaN       0.000000   \n",
       "50%                                                   NaN       0.000000   \n",
       "75%                                                   NaN       0.000000   \n",
       "max                                                   NaN     309.000000   \n",
       "\n",
       "        participants_count         likes      comments        shares   type  \n",
       "count         12999.000000  12999.000000  12999.000000  12999.000000  12999  \n",
       "unique                 NaN           NaN           NaN           NaN      8  \n",
       "top                    NaN           NaN           NaN           NaN     bs  \n",
       "freq                   NaN           NaN           NaN           NaN  11492  \n",
       "mean              1.727518     10.831833      0.038311     10.831833    NaN  \n",
       "std               6.884239     79.798949      0.827335     79.798949    NaN  \n",
       "min               0.000000      0.000000      0.000000      0.000000    NaN  \n",
       "25%               1.000000      0.000000      0.000000      0.000000    NaN  \n",
       "50%               1.000000      0.000000      0.000000      0.000000    NaN  \n",
       "75%               1.000000      0.000000      0.000000      0.000000    NaN  \n",
       "max             240.000000    988.000000     65.000000    988.000000    NaN  "
      ]
     },
     "execution_count": 5,
     "metadata": {},
     "output_type": "execute_result"
    }
   ],
   "source": [
    "df.describe(include=\"all\")"
   ]
  },
  {
   "cell_type": "code",
   "execution_count": 6,
   "metadata": {},
   "outputs": [
    {
     "data": {
      "text/plain": [
       "0.000    11632\n",
       "0.001       77\n",
       "0.002       39\n",
       "0.007       31\n",
       "0.200       30\n",
       "         ...  \n",
       "0.865        1\n",
       "0.102        1\n",
       "0.267        1\n",
       "0.800        1\n",
       "0.408        1\n",
       "Name: spam_score, Length: 488, dtype: int64"
      ]
     },
     "execution_count": 6,
     "metadata": {},
     "output_type": "execute_result"
    }
   ],
   "source": [
    "df.spam_score.value_counts()"
   ]
  },
  {
   "cell_type": "code",
   "execution_count": 7,
   "metadata": {},
   "outputs": [],
   "source": [
    "a=df.type.value_counts()"
   ]
  },
  {
   "cell_type": "code",
   "execution_count": 8,
   "metadata": {},
   "outputs": [
    {
     "data": {
      "text/plain": [
       "<matplotlib.axes._subplots.AxesSubplot at 0x20a955f99c8>"
      ]
     },
     "execution_count": 8,
     "metadata": {},
     "output_type": "execute_result"
    },
    {
     "data": {
      "image/png": "[encoded data removed]",
      "text/plain": [
       "<Figure size 432x288 with 1 Axes>"
      ]
     },
     "metadata": {
      "needs_background": "light"
     },
     "output_type": "display_data"
    }
   ],
   "source": [
    "a.plot(kind=\"bar\")"
   ]
  },
  {
   "cell_type": "markdown",
   "metadata": {},
   "source": [
    "## Its is an imbalanced dataset"
   ]
  },
  {
   "cell_type": "code",
   "execution_count": 9,
   "metadata": {},
   "outputs": [],
   "source": [
    "b=df.site_url.value_counts()"
   ]
  },
  {
   "cell_type": "code",
   "execution_count": 10,
   "metadata": {},
   "outputs": [],
   "source": [
    "b=b.nlargest(10)"
   ]
  },
  {
   "cell_type": "code",
   "execution_count": 11,
   "metadata": {},
   "outputs": [
    {
     "name": "stdout",
     "output_type": "stream",
     "text": [
      "antiwar.com              100\n",
      "abovetopsecret.com       100\n",
      "rt.com                   100\n",
      "guardianlv.com           100\n",
      "trueactivist.com         100\n",
      "pravda.ru                100\n",
      "jewsnews.co.il           100\n",
      "ihavethetruth.com        100\n",
      "dailystormer.com         100\n",
      "westernjournalism.com    100\n",
      "Name: site_url, dtype: int64\n"
     ]
    }
   ],
   "source": [
    "print(b)"
   ]
  },
  {
   "cell_type": "code",
   "execution_count": 12,
   "metadata": {},
   "outputs": [
    {
     "data": {
      "text/plain": [
       "<matplotlib.axes._subplots.AxesSubplot at 0x20a98ef1848>"
      ]
     },
     "execution_count": 12,
     "metadata": {},
     "output_type": "execute_result"
    },
    {
     "data": {
      "image/png": "[encoded data removed]",
      "text/plain": [
       "<Figure size 432x288 with 1 Axes>"
      ]
     },
     "metadata": {
      "needs_background": "light"
     },
     "output_type": "display_data"
    }
   ],
   "source": [
    "b.plot(kind=\"bar\")"
   ]
  },
  {
   "cell_type": "code",
   "execution_count": 13,
   "metadata": {},
   "outputs": [
    {
     "data": {
      "text/plain": [
       "<matplotlib.axes._subplots.AxesSubplot at 0x20a98f82848>"
      ]
     },
     "execution_count": 13,
     "metadata": {},
     "output_type": "execute_result"
    },
    {
     "data": {
      "image/png": "[encoded data removed]",
      "text/plain": [
       "<Figure size 432x288 with 1 Axes>"
      ]
     },
     "metadata": {
      "needs_background": "light"
     },
     "output_type": "display_data"
    }
   ],
   "source": [
    "theonion=df.loc[df[\"site_url\"]==\"theonion.com\"]\n",
    "theonion.type.value_counts().plot(kind=\"bar\")"
   ]
  },
  {
   "cell_type": "code",
   "execution_count": 14,
   "metadata": {},
   "outputs": [
    {
     "data": {
      "text/plain": [
       "<matplotlib.axes._subplots.AxesSubplot at 0x20a98fe06c8>"
      ]
     },
     "execution_count": 14,
     "metadata": {},
     "output_type": "execute_result"
    },
    {
     "data": {
      "image/png": "[encoded data removed]",
      "text/plain": [
       "<Figure size 432x288 with 1 Axes>"
      ]
     },
     "metadata": {
      "needs_background": "light"
     },
     "output_type": "display_data"
    }
   ],
   "source": [
    "theonion=df.loc[df[\"site_url\"]==\"dcclothesline.com\"]\n",
    "theonion.type.value_counts().plot(kind=\"bar\")"
   ]
  },
  {
   "cell_type": "markdown",
   "metadata": {},
   "source": [
    "# Both urls have documents belonging ti the \"bs\" type"
   ]
  },
  {
   "cell_type": "code",
   "execution_count": 15,
   "metadata": {},
   "outputs": [
    {
     "data": {
      "text/plain": [
       "True"
      ]
     },
     "execution_count": 15,
     "metadata": {},
     "output_type": "execute_result"
    }
   ],
   "source": [
    "df.isnull().values.any()"
   ]
  },
  {
   "cell_type": "code",
   "execution_count": 16,
   "metadata": {},
   "outputs": [
    {
     "data": {
      "text/plain": [
       "<matplotlib.axes._subplots.AxesSubplot at 0x20a9903bcc8>"
      ]
     },
     "execution_count": 16,
     "metadata": {},
     "output_type": "execute_result"
    },
    {
     "data": {
      "image/png": "[encoded data removed]",
      "text/plain": [
       "<Figure size 432x288 with 1 Axes>"
      ]
     },
     "metadata": {
      "needs_background": "light"
     },
     "output_type": "display_data"
    }
   ],
   "source": [
    "df.isnull().sum().plot(kind=\"bar\")"
   ]
  },
  {
   "cell_type": "code",
   "execution_count": 17,
   "metadata": {},
   "outputs": [],
   "source": [
    "df=df.drop(columns=[\"author\",\"domain_rank\",\"main_img_url\"])"
   ]
  },
  {
   "cell_type": "markdown",
   "metadata": {},
   "source": [
    "# Creating y_label i.e Spam or not by Creating a Bias\n",
    "### Any article with spam level > 0.2 is marked as spam\n"
   ]
  },
  {
   "cell_type": "code",
   "execution_count": 18,
   "metadata": {},
   "outputs": [],
   "source": [
    "y_data = []\n",
    "for e in df['spam_score']:\n",
    "    if e > 0.2:                                                   \n",
    "        y_data.append(0)            # will be a spam \n",
    "    else:\n",
    "        y_data.append(1)            # will not be a spam "
   ]
  },
  {
   "cell_type": "code",
   "execution_count": 19,
   "metadata": {},
   "outputs": [
    {
     "data": {
      "text/plain": [
       "12999"
      ]
     },
     "execution_count": 19,
     "metadata": {},
     "output_type": "execute_result"
    }
   ],
   "source": [
    "len(y_data)"
   ]
  },
  {
   "cell_type": "code",
   "execution_count": 20,
   "metadata": {},
   "outputs": [],
   "source": [
    "count_0 = 0\n",
    "count_1 = 0\n",
    "for e in y_data:\n",
    "    if(e == 1):\n",
    "        count_1 = count_1 + 1\n",
    "    else:\n",
    "        count_0 = count_0 + 1"
   ]
  },
  {
   "cell_type": "code",
   "execution_count": 21,
   "metadata": {},
   "outputs": [
    {
     "name": "stdout",
     "output_type": "stream",
     "text": [
      "500\n",
      "12499\n"
     ]
    }
   ],
   "source": [
    "print(count_0)\n",
    "print(count_1)"
   ]
  },
  {
   "cell_type": "markdown",
   "metadata": {},
   "source": [
    "## Clearly the Above analysis shows imbalanced dataset"
   ]
  },
  {
   "cell_type": "code",
   "execution_count": 22,
   "metadata": {},
   "outputs": [],
   "source": [
    "from bs4 import BeautifulSoup\n",
    "import re\n",
    "import nltk\n",
    "from nltk.corpus import stopwords\n",
    "import matplotlib.pyplot as plt"
   ]
  },
  {
   "cell_type": "markdown",
   "metadata": {},
   "source": [
    "# Data Pre-Processing(Treating Symbols and Stopwords Present in Data) using nltk and re"
   ]
  },
  {
   "cell_type": "code",
   "execution_count": 23,
   "metadata": {},
   "outputs": [],
   "source": [
    "\n",
    "REPLACE_BY_SPACE = re.compile('[/(){}\\[\\]\\|@,;]') #These Symbols will be replaced with Space\n",
    "BAD_SYMBOLS = re.compile('[^0-9a-z #+_]')         #These Symbols will be Removed from Text\n",
    "STOPWORDS = set(stopwords.words('english'))"
   ]
  },
  {
   "cell_type": "code",
   "execution_count": 24,
   "metadata": {},
   "outputs": [],
   "source": [
    "#Text Cleaning Functions\n",
    "\n",
    "def string_form(value):\n",
    "    return str(value)\n",
    "\n",
    "def clean_text(text):\n",
    "    text = BeautifulSoup(text, \"lxml\").text\n",
    "    text = text.lower()  #LowerCase Text\n",
    "    text = REPLACE_BY_SPACE.sub(' ', text) #Replace Certain Symbols by Space in Text\n",
    "    text = BAD_SYMBOLS.sub('', text) #Delete Certain Symbols from Text\n",
    "    text = ' '.join(word for word in text.split() if word not in STOPWORDS) #Remove Stopwords from Text\n",
    "    return text"
   ]
  },
  {
   "cell_type": "code",
   "execution_count": 25,
   "metadata": {},
   "outputs": [],
   "source": [
    "# Text Pre-processing and cleaning operations\n",
    "\n",
    "X_data = df['title'] + df['text']\n",
    "X_data = X_data.apply(string_form)\n",
    "X_data = X_data.apply(clean_text)"
   ]
  },
  {
   "cell_type": "code",
   "execution_count": 26,
   "metadata": {},
   "outputs": [
    {
     "data": {
      "text/plain": [
       "0    muslims busted stole millions govt benefitspri...\n",
       "1    attorney general loretta lynch plead fifthwhy ...\n",
       "2    breaking weiner cooperating fbi hillary email ...\n",
       "3    pin drop speech father daughter kidnapped kill...\n",
       "4    fantastic trumps 7 point plan reform healthcar...\n",
       "dtype: object"
      ]
     },
     "execution_count": 26,
     "metadata": {},
     "output_type": "execute_result"
    }
   ],
   "source": [
    "X_data.head()"
   ]
  },
  {
   "cell_type": "code",
   "execution_count": 27,
   "metadata": {},
   "outputs": [],
   "source": [
    "# Let us Remove all nan values\n",
    "\n",
    "X_data_final = []\n",
    "y_data_final = []\n",
    "\n",
    "for e in range(len(X_data)):\n",
    "    if(X_data[e] != 'nan'):\n",
    "        X_data_final.append(X_data[e])\n",
    "        y_data_final.append(y_data[e])"
   ]
  },
  {
   "cell_type": "code",
   "execution_count": 28,
   "metadata": {},
   "outputs": [
    {
     "data": {
      "text/plain": [
       "(12273,)"
      ]
     },
     "execution_count": 28,
     "metadata": {},
     "output_type": "execute_result"
    }
   ],
   "source": [
    "\n",
    "X_data_final = np.array(X_data_final)\n",
    "X_data_final.shape"
   ]
  },
  {
   "cell_type": "code",
   "execution_count": 29,
   "metadata": {},
   "outputs": [],
   "source": [
    "#import en_core_web_sm"
   ]
  },
  {
   "cell_type": "code",
   "execution_count": 30,
   "metadata": {},
   "outputs": [],
   "source": [
    "#nlp = en_core_web_sm.load()"
   ]
  },
  {
   "cell_type": "code",
   "execution_count": 31,
   "metadata": {},
   "outputs": [],
   "source": [
    "#import spacy"
   ]
  },
  {
   "cell_type": "code",
   "execution_count": 32,
   "metadata": {},
   "outputs": [],
   "source": [
    "# Further Cleaning Using Spacy\n",
    "\n",
    "#nlp = spacy.load('en', disable=['ner', 'parser']) # disabling Named Entity Recognition for speed\n",
    "\n",
    "#def cleaning(doc):\n",
    "    # Lemmatizes and removes stopwords\n",
    "    # doc needs to be a spacy Doc object\n",
    " #   txt = [token.lemma_ for token in doc if not token.is_stop]\n",
    "    # Word2Vec uses context words to learn the vector representation of a target word,\n",
    "    # if a sentence is only one or two words long,\n",
    "    # the benefit for the training is very small\n",
    "  #  if len(txt) > 2:\n",
    "   #     return ' '.join(txt)"
   ]
  },
  {
   "cell_type": "code",
   "execution_count": 33,
   "metadata": {},
   "outputs": [
    {
     "data": {
      "text/plain": [
       "12273"
      ]
     },
     "execution_count": 33,
     "metadata": {},
     "output_type": "execute_result"
    }
   ],
   "source": [
    "len(X_data_final)"
   ]
  },
  {
   "cell_type": "code",
   "execution_count": 34,
   "metadata": {},
   "outputs": [
    {
     "data": {
      "text/plain": [
       "12273"
      ]
     },
     "execution_count": 34,
     "metadata": {},
     "output_type": "execute_result"
    }
   ],
   "source": [
    "\n",
    "len(y_data_final)"
   ]
  },
  {
   "cell_type": "code",
   "execution_count": 35,
   "metadata": {},
   "outputs": [
    {
     "name": "stderr",
     "output_type": "stream",
     "text": [
      "Using TensorFlow backend.\n"
     ]
    }
   ],
   "source": [
    "from keras.preprocessing.text import Tokenizer\n",
    "from keras.preprocessing.sequence import pad_sequences"
   ]
  },
  {
   "cell_type": "code",
   "execution_count": 36,
   "metadata": {},
   "outputs": [],
   "source": [
    "tokenizer = Tokenizer()\n",
    "tokenizer.fit_on_texts(X_data_final)"
   ]
  },
  {
   "cell_type": "code",
   "execution_count": 37,
   "metadata": {},
   "outputs": [
    {
     "data": {
      "text/plain": [
       "{1: 'us',\n",
       " 2: 'trump',\n",
       " 3: 'clinton',\n",
       " 4: 'people',\n",
       " 5: 'one',\n",
       " 6: 'would',\n",
       " 7: 'hillary',\n",
       " 8: 'said',\n",
       " 9: 'new',\n",
       " 10: 'like',\n",
       " 11: 'also',\n",
       " 12: 'even',\n",
       " 13: 'time',\n",
       " 14: '2016',\n",
       " 15: 'election',\n",
       " 16: 'world',\n",
       " 17: 'state',\n",
       " 18: 'many',\n",
       " 19: 'president',\n",
       " 20: 'government',\n",
       " 21: 'could',\n",
       " 22: 'war',\n",
       " 23: 'de',\n",
       " 24: 'states',\n",
       " 25: 'obama',\n",
       " 26: 'american',\n",
       " 27: 'years',\n",
       " 28: 'media',\n",
       " 29: 'first',\n",
       " 30: 'get',\n",
       " 31: 'campaign',\n",
       " 32: 'know',\n",
       " 33: 'news',\n",
       " 34: 'may',\n",
       " 35: 'russia',\n",
       " 36: 'two',\n",
       " 37: 'dont',\n",
       " 38: 'donald',\n",
       " 39: 'way',\n",
       " 40: 'make',\n",
       " 41: 'see',\n",
       " 42: 'well',\n",
       " 43: 'going',\n",
       " 44: 'political',\n",
       " 45: 'fbi',\n",
       " 46: 'united',\n",
       " 47: 'much',\n",
       " 48: 'think',\n",
       " 49: 'country',\n",
       " 50: 'right',\n",
       " 51: 'back',\n",
       " 52: 'white',\n",
       " 53: 'take',\n",
       " 54: 'day',\n",
       " 55: 'america',\n",
       " 56: 'last',\n",
       " 57: 'since',\n",
       " 58: 'public',\n",
       " 59: 'power',\n",
       " 60: 'made',\n",
       " 61: 'go',\n",
       " 62: 'military',\n",
       " 63: 'clintons',\n",
       " 64: 'want',\n",
       " 65: 'russian',\n",
       " 66: 'say',\n",
       " 67: 'la',\n",
       " 68: 'another',\n",
       " 69: 'national',\n",
       " 70: 'use',\n",
       " 71: 'according',\n",
       " 72: 'never',\n",
       " 73: 'october',\n",
       " 74: 'need',\n",
       " 75: 'good',\n",
       " 76: 'still',\n",
       " 77: 'emails',\n",
       " 78: 'year',\n",
       " 79: 'email',\n",
       " 80: 'every',\n",
       " 81: 'support',\n",
       " 82: 'system',\n",
       " 83: 'house',\n",
       " 84: 'vote',\n",
       " 85: '000',\n",
       " 86: 'syria',\n",
       " 87: 'americans',\n",
       " 88: 'law',\n",
       " 89: 'work',\n",
       " 90: 'fact',\n",
       " 91: 'life',\n",
       " 92: 'times',\n",
       " 93: 'around',\n",
       " 94: 'told',\n",
       " 95: 'presidential',\n",
       " 96: 'party',\n",
       " 97: 'money',\n",
       " 98: 'part',\n",
       " 99: '1',\n",
       " 100: 'police',\n",
       " 101: 'information',\n",
       " 102: 'used',\n",
       " 103: 'november',\n",
       " 104: 'come',\n",
       " 105: 'really',\n",
       " 106: 'however',\n",
       " 107: 'policy',\n",
       " 108: 'change',\n",
       " 109: 'black',\n",
       " 110: 'trumps',\n",
       " 111: 'without',\n",
       " 112: 'foreign',\n",
       " 113: 'thats',\n",
       " 114: 'long',\n",
       " 115: 'federal',\n",
       " 116: 'case',\n",
       " 117: 'things',\n",
       " 118: 'end',\n",
       " 119: 'investigation',\n",
       " 120: 'man',\n",
       " 121: 'women',\n",
       " 122: 'democratic',\n",
       " 123: 'found',\n",
       " 124: 'today',\n",
       " 125: 'real',\n",
       " 126: 'former',\n",
       " 127: 'washington',\n",
       " 128: 'already',\n",
       " 129: 'says',\n",
       " 130: 'help',\n",
       " 131: 'including',\n",
       " 132: 'might',\n",
       " 133: 'next',\n",
       " 134: 'security',\n",
       " 135: 'something',\n",
       " 136: 'million',\n",
       " 137: 'video',\n",
       " 138: 'free',\n",
       " 139: 'control',\n",
       " 140: 'believe',\n",
       " 141: 'great',\n",
       " 142: 'percent',\n",
       " 143: 'im',\n",
       " 144: 'article',\n",
       " 145: 'must',\n",
       " 146: 'look',\n",
       " 147: 'order',\n",
       " 148: 'human',\n",
       " 149: 'put',\n",
       " 150: 'report',\n",
       " 151: 'point',\n",
       " 152: '2',\n",
       " 153: 'called',\n",
       " 154: 'left',\n",
       " 155: 'group',\n",
       " 156: 'days',\n",
       " 157: 'water',\n",
       " 158: 'place',\n",
       " 159: 'become',\n",
       " 160: 'actually',\n",
       " 161: 'history',\n",
       " 162: 'far',\n",
       " 163: 'yet',\n",
       " 164: 'republican',\n",
       " 165: 'bill',\n",
       " 166: 'department',\n",
       " 167: 'el',\n",
       " 168: 'global',\n",
       " 169: 'children',\n",
       " 170: 'post',\n",
       " 171: 'general',\n",
       " 172: 'rights',\n",
       " 173: 'economic',\n",
       " 174: 'en',\n",
       " 175: 'health',\n",
       " 176: '10',\n",
       " 177: 'show',\n",
       " 178: 'course',\n",
       " 179: 'least',\n",
       " 180: 'voters',\n",
       " 181: 'john',\n",
       " 182: 'social',\n",
       " 183: 'nothing',\n",
       " 184: 'evidence',\n",
       " 185: 'force',\n",
       " 186: 'ever',\n",
       " 187: 'big',\n",
       " 188: 'que',\n",
       " 189: 'important',\n",
       " 190: 'international',\n",
       " 191: 'candidate',\n",
       " 192: 'forces',\n",
       " 193: 'three',\n",
       " 194: 'thing',\n",
       " 195: 'voting',\n",
       " 196: 'keep',\n",
       " 197: 'little',\n",
       " 198: 'likely',\n",
       " 199: 'better',\n",
       " 200: 'best',\n",
       " 201: 'countries',\n",
       " 202: 'others',\n",
       " 203: 'major',\n",
       " 204: 'find',\n",
       " 205: 'office',\n",
       " 206: 'away',\n",
       " 207: 'source',\n",
       " 208: 'family',\n",
       " 209: 'nuclear',\n",
       " 210: 'reported',\n",
       " 211: 'city',\n",
       " 212: 'number',\n",
       " 213: '3',\n",
       " 214: 'always',\n",
       " 215: 'less',\n",
       " 216: 'didnt',\n",
       " 217: 'though',\n",
       " 218: 'home',\n",
       " 219: 'within',\n",
       " 220: 'got',\n",
       " 221: 'secretary',\n",
       " 222: 'justice',\n",
       " 223: 'york',\n",
       " 224: 'officials',\n",
       " 225: 'un',\n",
       " 226: 'given',\n",
       " 227: 'matter',\n",
       " 228: 'doesnt',\n",
       " 229: 'north',\n",
       " 230: 'past',\n",
       " 231: 'clear',\n",
       " 232: 'story',\n",
       " 233: 'enough',\n",
       " 234: 'working',\n",
       " 235: 'whether',\n",
       " 236: 'china',\n",
       " 237: 'administration',\n",
       " 238: 'several',\n",
       " 239: 'share',\n",
       " 240: 'top',\n",
       " 241: 'putin',\n",
       " 242: 'food',\n",
       " 243: 'week',\n",
       " 244: 'high',\n",
       " 245: 'cant',\n",
       " 246: 'live',\n",
       " 247: 'gold',\n",
       " 248: 'seen',\n",
       " 249: 'wikileaks',\n",
       " 250: 'give',\n",
       " 251: 'different',\n",
       " 252: 'means',\n",
       " 253: 'syrian',\n",
       " 254: 'private',\n",
       " 255: 'comey',\n",
       " 256: 'recent',\n",
       " 257: 'using',\n",
       " 258: 'foundation',\n",
       " 259: 'among',\n",
       " 260: 'lot',\n",
       " 261: 'democrats',\n",
       " 262: 'ago',\n",
       " 263: 'facebook',\n",
       " 264: 'nations',\n",
       " 265: 'director',\n",
       " 266: 'anything',\n",
       " 267: 'known',\n",
       " 268: 'question',\n",
       " 269: 'call',\n",
       " 270: 'possible',\n",
       " 271: 'continue',\n",
       " 272: 'truth',\n",
       " 273: 'done',\n",
       " 274: 'came',\n",
       " 275: '2015',\n",
       " 276: 'making',\n",
       " 277: 'win',\n",
       " 278: 'instead',\n",
       " 279: 'reports',\n",
       " 280: 'saying',\n",
       " 281: 'nation',\n",
       " 282: 'reason',\n",
       " 283: 'stop',\n",
       " 284: '11',\n",
       " 285: 'western',\n",
       " 286: 'men',\n",
       " 287: 'act',\n",
       " 288: '4',\n",
       " 289: 'able',\n",
       " 290: 'members',\n",
       " 291: 'read',\n",
       " 292: 'person',\n",
       " 293: 'future',\n",
       " 294: '5',\n",
       " 295: 'comment',\n",
       " 296: 'attack',\n",
       " 297: 'congress',\n",
       " 298: 'groups',\n",
       " 299: 'full',\n",
       " 300: 'business',\n",
       " 301: 'court',\n",
       " 302: 'coming',\n",
       " 303: 'problem',\n",
       " 304: 'mr',\n",
       " 305: 'sure',\n",
       " 306: 'took',\n",
       " 307: 'trying',\n",
       " 308: 'across',\n",
       " 309: 'behind',\n",
       " 310: 'following',\n",
       " 311: '20',\n",
       " 312: 'press',\n",
       " 313: 'anyone',\n",
       " 314: 'let',\n",
       " 315: 'true',\n",
       " 316: 'name',\n",
       " 317: 'israel',\n",
       " 318: 'almost',\n",
       " 319: 'financial',\n",
       " 320: 'energy',\n",
       " 321: 'air',\n",
       " 322: 'economy',\n",
       " 323: 'set',\n",
       " 324: 'close',\n",
       " 325: 'taking',\n",
       " 326: 'everything',\n",
       " 327: 'along',\n",
       " 328: 'east',\n",
       " 329: 'access',\n",
       " 330: 'published',\n",
       " 331: 'middle',\n",
       " 332: 'old',\n",
       " 333: 'months',\n",
       " 334: 'comes',\n",
       " 335: 'often',\n",
       " 336: 'iraq',\n",
       " 337: 'rather',\n",
       " 338: 'lives',\n",
       " 339: 'second',\n",
       " 340: 'entire',\n",
       " 341: 'isis',\n",
       " 342: 'process',\n",
       " 343: 'results',\n",
       " 344: 'daily',\n",
       " 345: 'simply',\n",
       " 346: 'later',\n",
       " 347: 'early',\n",
       " 348: 'bad',\n",
       " 349: 'god',\n",
       " 350: 'went',\n",
       " 351: 'issues',\n",
       " 352: 'face',\n",
       " 353: 'wrote',\n",
       " 354: 'weapons',\n",
       " 355: 'move',\n",
       " 356: 'example',\n",
       " 357: 'supporters',\n",
       " 358: 'either',\n",
       " 359: 'death',\n",
       " 360: 'theyre',\n",
       " 361: 'defense',\n",
       " 362: 'politics',\n",
       " 363: 'podesta',\n",
       " 364: 'elections',\n",
       " 365: 'isnt',\n",
       " 366: 'theres',\n",
       " 367: 'plan',\n",
       " 368: 'asked',\n",
       " 369: 'cannot',\n",
       " 370: 'result',\n",
       " 371: 'official',\n",
       " 372: 'open',\n",
       " 373: 'body',\n",
       " 374: 'wall',\n",
       " 375: 'run',\n",
       " 376: 'line',\n",
       " 377: 'issue',\n",
       " 378: 'large',\n",
       " 379: 'local',\n",
       " 380: 'mainstream',\n",
       " 381: 'south',\n",
       " 382: 'based',\n",
       " 383: 'words',\n",
       " 384: 'seems',\n",
       " 385: 'market',\n",
       " 386: 'small',\n",
       " 387: 'taken',\n",
       " 388: 'someone',\n",
       " 389: 'intelligence',\n",
       " 390: 'everyone',\n",
       " 391: 'europe',\n",
       " 392: 'start',\n",
       " 393: 'current',\n",
       " 394: 'deal',\n",
       " 395: 'millions',\n",
       " 396: 'four',\n",
       " 397: 'youre',\n",
       " 398: 'feel',\n",
       " 399: 'street',\n",
       " 400: 'thought',\n",
       " 401: 'hard',\n",
       " 402: 'al',\n",
       " 403: 'reality',\n",
       " 404: 'school',\n",
       " 405: 'fight',\n",
       " 406: 'hes',\n",
       " 407: 'tell',\n",
       " 408: 'saudi',\n",
       " 409: 'getting',\n",
       " 410: 'violence',\n",
       " 411: 'lead',\n",
       " 412: 'mind',\n",
       " 413: 'needs',\n",
       " 414: 'despite',\n",
       " 415: 'pay',\n",
       " 416: 'twitter',\n",
       " 417: 'makes',\n",
       " 418: 'society',\n",
       " 419: 'kind',\n",
       " 420: 'woman',\n",
       " 421: 'west',\n",
       " 422: 'criminal',\n",
       " 423: 'class',\n",
       " 424: 'idea',\n",
       " 425: 'side',\n",
       " 426: 'love',\n",
       " 427: 'watch',\n",
       " 428: 'trade',\n",
       " 429: 'establishment',\n",
       " 430: 'oil',\n",
       " 431: 'head',\n",
       " 432: 'republicans',\n",
       " 433: 'community',\n",
       " 434: 'thousands',\n",
       " 435: 'bank',\n",
       " 436: 'iran',\n",
       " 437: 'together',\n",
       " 438: '8',\n",
       " 439: 'land',\n",
       " 440: 'understand',\n",
       " 441: 'victory',\n",
       " 442: 'job',\n",
       " 443: 'action',\n",
       " 444: 'study',\n",
       " 445: 'whole',\n",
       " 446: 'secret',\n",
       " 447: 'probably',\n",
       " 448: 'added',\n",
       " 449: 'crisis',\n",
       " 450: 'die',\n",
       " 451: 'care',\n",
       " 452: 'please',\n",
       " 453: 'george',\n",
       " 454: '0',\n",
       " 455: 'mean',\n",
       " 456: 'book',\n",
       " 457: 'nato',\n",
       " 458: 'research',\n",
       " 459: 'peace',\n",
       " 460: 'illegal',\n",
       " 461: 'living',\n",
       " 462: 'hillarys',\n",
       " 463: 'movement',\n",
       " 464: 'area',\n",
       " 465: 'especially',\n",
       " 466: 'army',\n",
       " 467: 'sent',\n",
       " 468: 'light',\n",
       " 469: 'legal',\n",
       " 470: 'released',\n",
       " 471: 'los',\n",
       " 472: 'comments',\n",
       " 473: 'university',\n",
       " 474: 'pipeline',\n",
       " 475: 'lost',\n",
       " 476: 'recently',\n",
       " 477: 'votes',\n",
       " 478: 'race',\n",
       " 479: 'leave',\n",
       " 480: 'civil',\n",
       " 481: '9',\n",
       " 482: 'earth',\n",
       " 483: 'citizens',\n",
       " 484: 'turn',\n",
       " 485: 'dr',\n",
       " 486: 'follow',\n",
       " 487: 'due',\n",
       " 488: 'create',\n",
       " 489: 'personal',\n",
       " 490: 'cause',\n",
       " 491: '2014',\n",
       " 492: 'longer',\n",
       " 493: 'killed',\n",
       " 494: 'leaders',\n",
       " 495: 'central',\n",
       " 496: 'night',\n",
       " 497: 'hope',\n",
       " 498: 'situation',\n",
       " 499: 'interest',\n",
       " 500: 'talk',\n",
       " 501: '100',\n",
       " 502: 'data',\n",
       " 503: 'service',\n",
       " 504: 'via',\n",
       " 505: 'james',\n",
       " 506: 'company',\n",
       " 507: 'wants',\n",
       " 508: '30',\n",
       " 509: 'threat',\n",
       " 510: 'level',\n",
       " 511: 'team',\n",
       " 512: 'fear',\n",
       " 513: 'began',\n",
       " 514: 'population',\n",
       " 515: 'statement',\n",
       " 516: 'shows',\n",
       " 517: 'month',\n",
       " 518: 'project',\n",
       " 519: 'although',\n",
       " 520: 'role',\n",
       " 521: 'special',\n",
       " 522: 'sources',\n",
       " 523: 'wont',\n",
       " 524: 'try',\n",
       " 525: 'freedom',\n",
       " 526: 'attacks',\n",
       " 527: 'center',\n",
       " 528: 'hand',\n",
       " 529: 'common',\n",
       " 530: 'perhaps',\n",
       " 531: 'decision',\n",
       " 532: 'list',\n",
       " 533: '15',\n",
       " 534: 'elected',\n",
       " 535: 'del',\n",
       " 536: 'massive',\n",
       " 537: 'interview',\n",
       " 538: 'position',\n",
       " 539: 'happen',\n",
       " 540: 'young',\n",
       " 541: 'related',\n",
       " 542: 'earlier',\n",
       " 543: 'interests',\n",
       " 544: 'wrong',\n",
       " 545: 'corporate',\n",
       " 546: 'five',\n",
       " 547: 'created',\n",
       " 548: 'speech',\n",
       " 549: 'standing',\n",
       " 550: 'european',\n",
       " 551: 'problems',\n",
       " 552: 'looking',\n",
       " 553: 'claims',\n",
       " 554: 'minister',\n",
       " 555: 'upon',\n",
       " 556: 'policies',\n",
       " 557: 'jewish',\n",
       " 558: 'bring',\n",
       " 559: 'near',\n",
       " 560: 'latest',\n",
       " 561: 'weeks',\n",
       " 562: 'obamas',\n",
       " 563: 'majority',\n",
       " 564: 'form',\n",
       " 565: 'democracy',\n",
       " 566: 'powerful',\n",
       " 567: '6',\n",
       " 568: 'happened',\n",
       " 569: 'governments',\n",
       " 570: 'meeting',\n",
       " 571: 'front',\n",
       " 572: 'whose',\n",
       " 573: 'muslim',\n",
       " 574: 'leader',\n",
       " 575: '7',\n",
       " 576: 'became',\n",
       " 577: 'response',\n",
       " 578: 'else',\n",
       " 579: 'key',\n",
       " 580: 'led',\n",
       " 581: 'americas',\n",
       " 582: 'program',\n",
       " 583: 'aleppo',\n",
       " 584: 'candidates',\n",
       " 585: 'sense',\n",
       " 586: 'influence',\n",
       " 587: 'strong',\n",
       " 588: 'ukraine',\n",
       " 589: 'rest',\n",
       " 590: 'author',\n",
       " 591: 'billion',\n",
       " 592: 'letter',\n",
       " 593: 'nearly',\n",
       " 594: 'outside',\n",
       " 595: 'goes',\n",
       " 596: 'bush',\n",
       " 597: 'serious',\n",
       " 598: 'soon',\n",
       " 599: 'http',\n",
       " 600: 'voter',\n",
       " 601: 'polls',\n",
       " 602: 'server',\n",
       " 603: 'effort',\n",
       " 604: 'presidency',\n",
       " 605: 'yes',\n",
       " 606: 'wanted',\n",
       " 607: 'british',\n",
       " 608: 'committee',\n",
       " 609: 'held',\n",
       " 610: 'sanders',\n",
       " 611: 'inside',\n",
       " 612: 'corruption',\n",
       " 613: 'started',\n",
       " 614: '27',\n",
       " 615: 'finally',\n",
       " 616: 'quite',\n",
       " 617: 'california',\n",
       " 618: 'regime',\n",
       " 619: 'member',\n",
       " 620: 'crime',\n",
       " 621: 'jobs',\n",
       " 622: 'medical',\n",
       " 623: 'involved',\n",
       " 624: 'dakota',\n",
       " 625: 'barack',\n",
       " 626: 'single',\n",
       " 627: 'posted',\n",
       " 628: 'friends',\n",
       " 629: 'received',\n",
       " 630: 'questions',\n",
       " 631: 'view',\n",
       " 632: 'russias',\n",
       " 633: 'deep',\n",
       " 634: 'fighting',\n",
       " 635: 'liberal',\n",
       " 636: 'propaganda',\n",
       " 637: 'stand',\n",
       " 638: 'potential',\n",
       " 639: 'total',\n",
       " 640: 'claim',\n",
       " 641: 'natural',\n",
       " 642: 'crimes',\n",
       " 643: 'sign',\n",
       " 644: 'wars',\n",
       " 645: 'companies',\n",
       " 646: 'child',\n",
       " 647: 'certain',\n",
       " 648: 'ive',\n",
       " 649: 'third',\n",
       " 650: 'running',\n",
       " 651: 'chief',\n",
       " 652: 'talking',\n",
       " 653: 'ground',\n",
       " 654: 'protect',\n",
       " 655: 'lets',\n",
       " 656: 'ones',\n",
       " 657: 'terrorists',\n",
       " 658: 'debt',\n",
       " 659: 'site',\n",
       " 660: 'higher',\n",
       " 661: '28',\n",
       " 662: 'elite',\n",
       " 663: 'michael',\n",
       " 664: 'industry',\n",
       " 665: 'record',\n",
       " 666: 'half',\n",
       " 667: 'laws',\n",
       " 668: 'david',\n",
       " 669: 'agency',\n",
       " 670: 'completely',\n",
       " 671: 'event',\n",
       " 672: '12',\n",
       " 673: 'popular',\n",
       " 674: 'debate',\n",
       " 675: 'saw',\n",
       " 676: 'image',\n",
       " 677: 'nominee',\n",
       " 678: 'gets',\n",
       " 679: '25',\n",
       " 680: 'dollars',\n",
       " 681: 'failed',\n",
       " 682: 'similar',\n",
       " 683: 'college',\n",
       " 684: 'enforcement',\n",
       " 685: 'eastern',\n",
       " 686: '26',\n",
       " 687: 'hours',\n",
       " 688: 'conflict',\n",
       " 689: 'turned',\n",
       " 690: 'relations',\n",
       " 691: 'fraud',\n",
       " 692: 'account',\n",
       " 693: 'late',\n",
       " 694: 'paid',\n",
       " 695: 'paul',\n",
       " 696: 'soros',\n",
       " 697: 'text',\n",
       " 698: 'increase',\n",
       " 699: 'actions',\n",
       " 700: 'agents',\n",
       " 701: 'risk',\n",
       " 702: 'moment',\n",
       " 703: 'experience',\n",
       " 704: 'mass',\n",
       " 705: 'allow',\n",
       " 706: 'appears',\n",
       " 707: 'banks',\n",
       " 708: 'heart',\n",
       " 709: 'hold',\n",
       " 710: 'whats',\n",
       " 711: 'per',\n",
       " 712: 'attorney',\n",
       " 713: '2012',\n",
       " 714: 'currently',\n",
       " 715: 'website',\n",
       " 716: 'organization',\n",
       " 717: 'staff',\n",
       " 718: 'ask',\n",
       " 719: 'decades',\n",
       " 720: 'tax',\n",
       " 721: 'maybe',\n",
       " 722: 'provide',\n",
       " 723: 'announced',\n",
       " 724: 'points',\n",
       " 725: 'officers',\n",
       " 726: 'ways',\n",
       " 727: 'region',\n",
       " 728: 'electoral',\n",
       " 729: 'indeed',\n",
       " 730: 'areas',\n",
       " 731: 'takes',\n",
       " 732: 'dead',\n",
       " 733: 'fire',\n",
       " 734: 'short',\n",
       " 735: 'usa',\n",
       " 736: 'mosul',\n",
       " 737: 'allowed',\n",
       " 738: 'der',\n",
       " 739: 'note',\n",
       " 740: 'available',\n",
       " 741: 'certainly',\n",
       " 742: 'attention',\n",
       " 743: '50',\n",
       " 744: 'breaking',\n",
       " 745: 'culture',\n",
       " 746: 'science',\n",
       " 747: 'worse',\n",
       " 748: 'seem',\n",
       " 749: 'clearly',\n",
       " 750: 'rock',\n",
       " 751: 'peoples',\n",
       " 752: 'choice',\n",
       " 753: 'remember',\n",
       " 754: 'plans',\n",
       " 755: 'cancer',\n",
       " 756: 'click',\n",
       " 757: 'word',\n",
       " 758: 'network',\n",
       " 759: 'worked',\n",
       " 760: 'islamic',\n",
       " 761: 'exactly',\n",
       " 762: 'poll',\n",
       " 763: 'dangerous',\n",
       " 764: 'internet',\n",
       " 765: 'independent',\n",
       " 766: 'gave',\n",
       " 767: 'brought',\n",
       " 768: 'continued',\n",
       " 769: 'lies',\n",
       " 770: 'rule',\n",
       " 771: 'executive',\n",
       " 772: 'heard',\n",
       " 773: 'various',\n",
       " 774: 'directly',\n",
       " 775: 'armed',\n",
       " 776: 'wednesday',\n",
       " 777: 'events',\n",
       " 778: 'september',\n",
       " 779: 'border',\n",
       " 780: 'friday',\n",
       " 781: 'planet',\n",
       " 782: 'photo',\n",
       " 783: 'brain',\n",
       " 784: 'camp',\n",
       " 785: 'leading',\n",
       " 786: 'play',\n",
       " 787: 'throughout',\n",
       " 788: 'sea',\n",
       " 789: 'council',\n",
       " 790: 'age',\n",
       " 791: 'efforts',\n",
       " 792: 'include',\n",
       " 793: 'revealed',\n",
       " 794: 'message',\n",
       " 795: 'decided',\n",
       " 796: 'wasnt',\n",
       " 797: 'calls',\n",
       " 798: 'cases',\n",
       " 799: 'false',\n",
       " 800: 'county',\n",
       " 801: 'attempt',\n",
       " 802: 'students',\n",
       " 803: 'allies',\n",
       " 804: 'development',\n",
       " 805: 'toward',\n",
       " 806: 'chinese',\n",
       " 807: 'hit',\n",
       " 808: 'cia',\n",
       " 809: 'stated',\n",
       " 810: 'space',\n",
       " 811: 'nature',\n",
       " 812: 'morning',\n",
       " 813: 'present',\n",
       " 814: 'opposition',\n",
       " 815: 'continues',\n",
       " 816: 'game',\n",
       " 817: 'florida',\n",
       " 818: 'thus',\n",
       " 819: 'main',\n",
       " 820: 'beyond',\n",
       " 821: 'needed',\n",
       " 822: 'documents',\n",
       " 823: 'tried',\n",
       " 824: 'answer',\n",
       " 825: 'knows',\n",
       " 826: 'weve',\n",
       " 827: 'whatever',\n",
       " 828: 'significant',\n",
       " 829: 'church',\n",
       " 830: 'forced',\n",
       " 831: 'union',\n",
       " 832: 'return',\n",
       " 833: 'turkey',\n",
       " 834: 'politicians',\n",
       " 835: 'sexual',\n",
       " 836: 'cnn',\n",
       " 837: 'hands',\n",
       " 838: 'troops',\n",
       " 839: 'red',\n",
       " 840: 'stories',\n",
       " 841: 'huge',\n",
       " 842: 'blood',\n",
       " 843: 'protest',\n",
       " 844: 'safe',\n",
       " 845: 'rise',\n",
       " 846: 'arabia',\n",
       " 847: 'knew',\n",
       " 848: 'july',\n",
       " 849: 'modern',\n",
       " 850: 'views',\n",
       " 851: 'link',\n",
       " 852: 'democrat',\n",
       " 853: 'se',\n",
       " 854: 'terrorist',\n",
       " 855: 'immigration',\n",
       " 856: 'protesters',\n",
       " 857: 'amount',\n",
       " 858: 'civilians',\n",
       " 859: 'numbers',\n",
       " 860: 'chance',\n",
       " 861: 'corrupt',\n",
       " 862: 'century',\n",
       " 863: 'son',\n",
       " 864: 'consider',\n",
       " 865: 'russians',\n",
       " 866: 'operation',\n",
       " 867: 'jews',\n",
       " 868: 'forward',\n",
       " 869: 'senior',\n",
       " 870: 'noted',\n",
       " 871: 'levels',\n",
       " 872: 'obamacare',\n",
       " 873: 'six',\n",
       " 874: 'abedin',\n",
       " 875: 'claimed',\n",
       " 876: 'immediately',\n",
       " 877: 'speak',\n",
       " 878: 'build',\n",
       " 879: 'ready',\n",
       " 880: 'parties',\n",
       " 881: 'agreement',\n",
       " 882: 'agenda',\n",
       " 883: 'articles',\n",
       " 884: 'building',\n",
       " 885: 'review',\n",
       " 886: 'page',\n",
       " 887: 'cold',\n",
       " 888: 'biggest',\n",
       " 889: 'workers',\n",
       " 890: 'drug',\n",
       " 891: 'difficult',\n",
       " 892: 'learn',\n",
       " 893: 'previous',\n",
       " 894: 'https',\n",
       " 895: 'low',\n",
       " 896: 'huma',\n",
       " 897: 'oct',\n",
       " 898: 'calling',\n",
       " 899: 'systems',\n",
       " 900: 'worth',\n",
       " 901: 'written',\n",
       " 902: 'climate',\n",
       " 903: 'effect',\n",
       " 904: 'final',\n",
       " 905: 'towards',\n",
       " 906: '16',\n",
       " 907: 'texas',\n",
       " 908: 'gun',\n",
       " 909: 'term',\n",
       " 910: 'sex',\n",
       " 911: 'speaking',\n",
       " 912: 'release',\n",
       " 913: 'education',\n",
       " 914: 'march',\n",
       " 915: 'services',\n",
       " 916: 'eu',\n",
       " 917: 'opinion',\n",
       " 918: 'terms',\n",
       " 919: 'christian',\n",
       " 920: 'fox',\n",
       " 921: 'growth',\n",
       " 922: 'online',\n",
       " 923: 'alone',\n",
       " 924: 'technology',\n",
       " 925: 'send',\n",
       " 926: 'spent',\n",
       " 927: 'alternative',\n",
       " 928: 'happening',\n",
       " 929: 'described',\n",
       " 930: 'direct',\n",
       " 931: 'step',\n",
       " 932: 'muslims',\n",
       " 933: '2013',\n",
       " 934: 'price',\n",
       " 935: 'giving',\n",
       " 936: 'paper',\n",
       " 937: 'rate',\n",
       " 938: 'prevent',\n",
       " 939: 'appeared',\n",
       " 940: 'le',\n",
       " 941: 'hundreds',\n",
       " 942: 'appear',\n",
       " 943: 'growing',\n",
       " 944: 'wife',\n",
       " 945: 'remains',\n",
       " 946: 'dollar',\n",
       " 947: 'reasons',\n",
       " 948: 'provided',\n",
       " 949: 'works',\n",
       " 950: 'cost',\n",
       " 951: 'happens',\n",
       " 952: 'organizations',\n",
       " 953: 'constitution',\n",
       " 954: 'complete',\n",
       " 955: 'empire',\n",
       " 956: 'beginning',\n",
       " 957: 'check',\n",
       " 958: 'bernie',\n",
       " 959: 'senate',\n",
       " 960: 'native',\n",
       " 961: 'worlds',\n",
       " 962: 'ability',\n",
       " 963: 'operations',\n",
       " 964: 'pretty',\n",
       " 965: 'racist',\n",
       " 966: 'quickly',\n",
       " 967: 'green',\n",
       " 968: 'voted',\n",
       " 969: 'fake',\n",
       " 970: 'terrorism',\n",
       " 971: 'shot',\n",
       " 972: 'necessary',\n",
       " 973: 'prison',\n",
       " 974: 'por',\n",
       " 975: 'apparently',\n",
       " 976: 'fall',\n",
       " 977: 'tuesday',\n",
       " 978: 'particularly',\n",
       " 979: 'lack',\n",
       " 980: 'regarding',\n",
       " 981: 'uk',\n",
       " 982: 'arms',\n",
       " 983: 'particular',\n",
       " 984: 'doubt',\n",
       " 985: 'discovered',\n",
       " 986: 'hear',\n",
       " 987: 'las',\n",
       " 988: 'stay',\n",
       " 989: 'base',\n",
       " 990: 'analysis',\n",
       " 991: '2008',\n",
       " 992: 'libya',\n",
       " 993: 'therefore',\n",
       " 994: 'evil',\n",
       " 995: 'expected',\n",
       " 996: '2011',\n",
       " 997: 'experts',\n",
       " 998: 'charges',\n",
       " 999: 'address',\n",
       " 1000: 'lose',\n",
       " ...}"
      ]
     },
     "execution_count": 37,
     "metadata": {},
     "output_type": "execute_result"
    }
   ],
   "source": [
    "vocab = tokenizer.index_word\n",
    "vocab"
   ]
  },
  {
   "cell_type": "code",
   "execution_count": 38,
   "metadata": {},
   "outputs": [
    {
     "data": {
      "text/plain": [
       "173976"
      ]
     },
     "execution_count": 38,
     "metadata": {},
     "output_type": "execute_result"
    }
   ],
   "source": [
    "len(vocab)"
   ]
  },
  {
   "cell_type": "code",
   "execution_count": 39,
   "metadata": {},
   "outputs": [
    {
     "data": {
      "text/plain": [
       "173977"
      ]
     },
     "execution_count": 39,
     "metadata": {},
     "output_type": "execute_result"
    }
   ],
   "source": [
    "vocab_size = len(tokenizer.word_index) + 1\n",
    "vocab_size"
   ]
  },
  {
   "cell_type": "code",
   "execution_count": 40,
   "metadata": {},
   "outputs": [],
   "source": [
    "encoded_text = tokenizer.texts_to_sequences(X_data_final)"
   ]
  },
  {
   "cell_type": "code",
   "execution_count": 41,
   "metadata": {},
   "outputs": [
    {
     "data": {
      "text/plain": [
       "[932,\n",
       " 6982,\n",
       " 6081,\n",
       " 395,\n",
       " 3329,\n",
       " 82932,\n",
       " 415,\n",
       " 51,\n",
       " 97,\n",
       " 1537,\n",
       " 499,\n",
       " 340,\n",
       " 208,\n",
       " 390,\n",
       " 274,\n",
       " 74,\n",
       " 6428,\n",
       " 15650,\n",
       " 53,\n",
       " 36,\n",
       " 27,\n",
       " 9636,\n",
       " 61,\n",
       " 68,\n",
       " 155,\n",
       " 4428,\n",
       " 20,\n",
       " 3330,\n",
       " 155,\n",
       " 30221,\n",
       " 6081,\n",
       " 396,\n",
       " 136,\n",
       " 20,\n",
       " 1110,\n",
       " 176,\n",
       " 333,\n",
       " 826,\n",
       " 210,\n",
       " 1384,\n",
       " 798,\n",
       " 10,\n",
       " 5,\n",
       " 573,\n",
       " 1155,\n",
       " 1115,\n",
       " 2462,\n",
       " 691,\n",
       " 22293,\n",
       " 82933,\n",
       " 39,\n",
       " 139,\n",
       " 541]"
      ]
     },
     "execution_count": 41,
     "metadata": {},
     "output_type": "execute_result"
    }
   ],
   "source": [
    "encoded_text[0]"
   ]
  },
  {
   "cell_type": "code",
   "execution_count": 42,
   "metadata": {},
   "outputs": [
    {
     "data": {
      "text/plain": [
       "53"
      ]
     },
     "execution_count": 42,
     "metadata": {},
     "output_type": "execute_result"
    }
   ],
   "source": [
    "len(encoded_text[0])"
   ]
  },
  {
   "cell_type": "code",
   "execution_count": 43,
   "metadata": {},
   "outputs": [
    {
     "data": {
      "text/plain": [
       "12273"
      ]
     },
     "execution_count": 43,
     "metadata": {},
     "output_type": "execute_result"
    }
   ],
   "source": [
    "len(encoded_text)"
   ]
  },
  {
   "cell_type": "code",
   "execution_count": 44,
   "metadata": {},
   "outputs": [
    {
     "data": {
      "text/plain": [
       "6898"
      ]
     },
     "execution_count": 44,
     "metadata": {},
     "output_type": "execute_result"
    }
   ],
   "source": [
    "# We want to keep articles which have minimum 100 words and maximum 500 words to prevent under-fitting and over-fitting\n",
    "\n",
    "min = 100\n",
    "max = 500\n",
    "count = 0\n",
    "for e in encoded_text:\n",
    "    if(len(e) > min and len(e) < max):\n",
    "        count = count + 1\n",
    "count"
   ]
  },
  {
   "cell_type": "code",
   "execution_count": 45,
   "metadata": {},
   "outputs": [],
   "source": [
    "#Max length of any text sequence in the dataset\n",
    "\n",
    "max_length = 500\n",
    "X = pad_sequences(encoded_text, maxlen = max_length, padding = 'post')"
   ]
  },
  {
   "cell_type": "code",
   "execution_count": 46,
   "metadata": {},
   "outputs": [
    {
     "name": "stdout",
     "output_type": "stream",
     "text": [
      "[[ 932 6982 6081 ...    0    0    0]\n",
      " [ 712  171 2947 ...    0    0    0]\n",
      " [ 744 1005 7458 ...    0    0    0]\n",
      " ...\n",
      " [ 818 2980 3024 ...   30    1   22]\n",
      " [1201 2691  341 ...    0    0    0]\n",
      " [ 872 6807 2845 ...    0    0    0]]\n"
     ]
    }
   ],
   "source": [
    "print(X)\n"
   ]
  },
  {
   "cell_type": "code",
   "execution_count": 47,
   "metadata": {},
   "outputs": [
    {
     "data": {
      "text/plain": [
       "(12273, 500)"
      ]
     },
     "execution_count": 47,
     "metadata": {},
     "output_type": "execute_result"
    }
   ],
   "source": [
    "X.shape"
   ]
  },
  {
   "cell_type": "code",
   "execution_count": 48,
   "metadata": {},
   "outputs": [],
   "source": [
    "\n",
    "# Now that we have X_data and y_data we will split them\n",
    "\n",
    "from sklearn.model_selection import train_test_split\n",
    "X_train, X_test, y_train , y_test = train_test_split(X,y_data_final, test_size = 0.2)"
   ]
  },
  {
   "cell_type": "code",
   "execution_count": 49,
   "metadata": {},
   "outputs": [],
   "source": [
    "#!pip install imblearn"
   ]
  },
  {
   "cell_type": "code",
   "execution_count": 50,
   "metadata": {},
   "outputs": [],
   "source": [
    "from imblearn.over_sampling import SMOTE\n",
    "sm = SMOTE(random_state=27)\n",
    "x_train_over, y_train_over = sm.fit_sample(X_train, y_train)"
   ]
  },
  {
   "cell_type": "code",
   "execution_count": 51,
   "metadata": {},
   "outputs": [],
   "source": [
    "# Let us count classes in y_train_over\n",
    "\n",
    "count1 = 0\n",
    "count0 = 0\n",
    "for e in y_train_over:\n",
    "    if e == 1:\n",
    "        count1 = count1 + 1\n",
    "    elif e == 0:\n",
    "        count0 = count0 + 1"
   ]
  },
  {
   "cell_type": "code",
   "execution_count": 52,
   "metadata": {},
   "outputs": [
    {
     "name": "stdout",
     "output_type": "stream",
     "text": [
      "9457 9457\n"
     ]
    }
   ],
   "source": [
    "\n",
    "# Now we can see that both classes are balanced\n",
    "\n",
    "print(count0,count1)"
   ]
  },
  {
   "cell_type": "code",
   "execution_count": 53,
   "metadata": {},
   "outputs": [
    {
     "ename": "AttributeError",
     "evalue": "'list' object has no attribute 'shape'",
     "output_type": "error",
     "traceback": [
      "\u001b[1;31m---------------------------------------------------------------------------\u001b[0m",
      "\u001b[1;31mAttributeError\u001b[0m                            Traceback (most recent call last)",
      "\u001b[1;32m<ipython-input-53-6765130ff83b>\u001b[0m in \u001b[0;36m<module>\u001b[1;34m\u001b[0m\n\u001b[1;32m----> 1\u001b[1;33m \u001b[0my_train_over\u001b[0m\u001b[1;33m.\u001b[0m\u001b[0mshape\u001b[0m\u001b[1;33m\u001b[0m\u001b[1;33m\u001b[0m\u001b[0m\n\u001b[0m",
      "\u001b[1;31mAttributeError\u001b[0m: 'list' object has no attribute 'shape'"
     ]
    }
   ],
   "source": [
    "y_train_over.shape"
   ]
  },
  {
   "cell_type": "code",
   "execution_count": 54,
   "metadata": {},
   "outputs": [
    {
     "data": {
      "text/plain": [
       "numpy.ndarray"
      ]
     },
     "execution_count": 54,
     "metadata": {},
     "output_type": "execute_result"
    }
   ],
   "source": [
    "type(x_train_over)"
   ]
  },
  {
   "cell_type": "code",
   "execution_count": 55,
   "metadata": {},
   "outputs": [],
   "source": [
    "y_train_over=np.asarray(y_train_over)"
   ]
  },
  {
   "cell_type": "code",
   "execution_count": 56,
   "metadata": {},
   "outputs": [
    {
     "data": {
      "text/plain": [
       "numpy.ndarray"
      ]
     },
     "execution_count": 56,
     "metadata": {},
     "output_type": "execute_result"
    }
   ],
   "source": [
    "type(y_train_over)"
   ]
  },
  {
   "cell_type": "code",
   "execution_count": 57,
   "metadata": {},
   "outputs": [
    {
     "name": "stdout",
     "output_type": "stream",
     "text": [
      "(18914, 500) (18914,)\n"
     ]
    }
   ],
   "source": [
    "print(x_train_over.shape,y_train_over.shape)"
   ]
  },
  {
   "cell_type": "code",
   "execution_count": 58,
   "metadata": {},
   "outputs": [],
   "source": [
    "y_train_over=y_train_over.reshape((-1,1))"
   ]
  },
  {
   "cell_type": "code",
   "execution_count": 59,
   "metadata": {},
   "outputs": [
    {
     "data": {
      "text/plain": [
       "array([[     1,    731,  13299, ...,      0,      0,      0],\n",
       "       [   537,  50550,      9, ...,      0,      0,      0],\n",
       "       [105493,    144,   1068, ...,   1909,     44,  11322],\n",
       "       ...,\n",
       "       [  1912,   2048,   9802, ...,      0,      0,      0],\n",
       "       [  2596,   1270,   4052, ...,  70872,  16390,   2762],\n",
       "       [   388,   3111,  23139, ...,      0,      0,      0]])"
      ]
     },
     "execution_count": 59,
     "metadata": {},
     "output_type": "execute_result"
    }
   ],
   "source": [
    "x_train_over"
   ]
  },
  {
   "cell_type": "code",
   "execution_count": 60,
   "metadata": {},
   "outputs": [
    {
     "name": "stdout",
     "output_type": "stream",
     "text": [
      "(18914, 500) (18914, 1)\n"
     ]
    }
   ],
   "source": [
    "print(x_train_over.shape,y_train_over.shape)"
   ]
  },
  {
   "cell_type": "code",
   "execution_count": 77,
   "metadata": {},
   "outputs": [
    {
     "data": {
      "text/plain": [
       "(2455, 500)"
      ]
     },
     "execution_count": 77,
     "metadata": {},
     "output_type": "execute_result"
    }
   ],
   "source": [
    "X_test.shape"
   ]
  },
  {
   "cell_type": "code",
   "execution_count": 62,
   "metadata": {},
   "outputs": [
    {
     "data": {
      "text/plain": [
       "2455"
      ]
     },
     "execution_count": 62,
     "metadata": {},
     "output_type": "execute_result"
    }
   ],
   "source": [
    "len(y_test)"
   ]
  },
  {
   "cell_type": "code",
   "execution_count": 63,
   "metadata": {},
   "outputs": [],
   "source": [
    "A=pd.DataFrame(x_train_over)"
   ]
  },
  {
   "cell_type": "code",
   "execution_count": 64,
   "metadata": {},
   "outputs": [],
   "source": [
    "A.to_csv(\"x_train_final.csv\",index=False)"
   ]
  },
  {
   "cell_type": "code",
   "execution_count": 65,
   "metadata": {},
   "outputs": [],
   "source": [
    "B=pd.read_csv(\"x_train_final.csv\")"
   ]
  },
  {
   "cell_type": "code",
   "execution_count": 66,
   "metadata": {},
   "outputs": [
    {
     "data": {
      "text/html": [
       "<div>\n",
       "<style scoped>\n",
       "    .dataframe tbody tr th:only-of-type {\n",
       "        vertical-align: middle;\n",
       "    }\n",
       "\n",
       "    .dataframe tbody tr th {\n",
       "        vertical-align: top;\n",
       "    }\n",
       "\n",
       "    .dataframe thead th {\n",
       "        text-align: right;\n",
       "    }\n",
       "</style>\n",
       "<table border=\"1\" class=\"dataframe\">\n",
       "  <thead>\n",
       "    <tr style=\"text-align: right;\">\n",
       "      <th></th>\n",
       "      <th>0</th>\n",
       "      <th>1</th>\n",
       "      <th>2</th>\n",
       "      <th>3</th>\n",
       "      <th>4</th>\n",
       "      <th>5</th>\n",
       "      <th>6</th>\n",
       "      <th>7</th>\n",
       "      <th>8</th>\n",
       "      <th>9</th>\n",
       "      <th>...</th>\n",
       "      <th>490</th>\n",
       "      <th>491</th>\n",
       "      <th>492</th>\n",
       "      <th>493</th>\n",
       "      <th>494</th>\n",
       "      <th>495</th>\n",
       "      <th>496</th>\n",
       "      <th>497</th>\n",
       "      <th>498</th>\n",
       "      <th>499</th>\n",
       "    </tr>\n",
       "  </thead>\n",
       "  <tbody>\n",
       "    <tr>\n",
       "      <th>0</th>\n",
       "      <td>1</td>\n",
       "      <td>731</td>\n",
       "      <td>13299</td>\n",
       "      <td>2726</td>\n",
       "      <td>1078</td>\n",
       "      <td>36</td>\n",
       "      <td>1242</td>\n",
       "      <td>86</td>\n",
       "      <td>549</td>\n",
       "      <td>32566</td>\n",
       "      <td>...</td>\n",
       "      <td>0</td>\n",
       "      <td>0</td>\n",
       "      <td>0</td>\n",
       "      <td>0</td>\n",
       "      <td>0</td>\n",
       "      <td>0</td>\n",
       "      <td>0</td>\n",
       "      <td>0</td>\n",
       "      <td>0</td>\n",
       "      <td>0</td>\n",
       "    </tr>\n",
       "    <tr>\n",
       "      <th>1</th>\n",
       "      <td>537</td>\n",
       "      <td>50550</td>\n",
       "      <td>9</td>\n",
       "      <td>16</td>\n",
       "      <td>133</td>\n",
       "      <td>243</td>\n",
       "      <td>505</td>\n",
       "      <td>6078</td>\n",
       "      <td>90995</td>\n",
       "      <td>614</td>\n",
       "      <td>...</td>\n",
       "      <td>0</td>\n",
       "      <td>0</td>\n",
       "      <td>0</td>\n",
       "      <td>0</td>\n",
       "      <td>0</td>\n",
       "      <td>0</td>\n",
       "      <td>0</td>\n",
       "      <td>0</td>\n",
       "      <td>0</td>\n",
       "      <td>0</td>\n",
       "    </tr>\n",
       "    <tr>\n",
       "      <th>2</th>\n",
       "      <td>105493</td>\n",
       "      <td>144</td>\n",
       "      <td>1068</td>\n",
       "      <td>367</td>\n",
       "      <td>40384</td>\n",
       "      <td>1817</td>\n",
       "      <td>147</td>\n",
       "      <td>925</td>\n",
       "      <td>169</td>\n",
       "      <td>683</td>\n",
       "      <td>...</td>\n",
       "      <td>37445</td>\n",
       "      <td>1871</td>\n",
       "      <td>1871</td>\n",
       "      <td>434</td>\n",
       "      <td>680</td>\n",
       "      <td>169</td>\n",
       "      <td>159</td>\n",
       "      <td>1909</td>\n",
       "      <td>44</td>\n",
       "      <td>11322</td>\n",
       "    </tr>\n",
       "    <tr>\n",
       "      <th>3</th>\n",
       "      <td>836</td>\n",
       "      <td>744</td>\n",
       "      <td>33</td>\n",
       "      <td>2</td>\n",
       "      <td>1504</td>\n",
       "      <td>357</td>\n",
       "      <td>84</td>\n",
       "      <td>1181</td>\n",
       "      <td>101671</td>\n",
       "      <td>11</td>\n",
       "      <td>...</td>\n",
       "      <td>0</td>\n",
       "      <td>0</td>\n",
       "      <td>0</td>\n",
       "      <td>0</td>\n",
       "      <td>0</td>\n",
       "      <td>0</td>\n",
       "      <td>0</td>\n",
       "      <td>0</td>\n",
       "      <td>0</td>\n",
       "      <td>0</td>\n",
       "    </tr>\n",
       "    <tr>\n",
       "      <th>4</th>\n",
       "      <td>35</td>\n",
       "      <td>17605</td>\n",
       "      <td>225</td>\n",
       "      <td>1417</td>\n",
       "      <td>5077</td>\n",
       "      <td>583</td>\n",
       "      <td>1033</td>\n",
       "      <td>1078</td>\n",
       "      <td>126586</td>\n",
       "      <td>15896</td>\n",
       "      <td>...</td>\n",
       "      <td>0</td>\n",
       "      <td>0</td>\n",
       "      <td>0</td>\n",
       "      <td>0</td>\n",
       "      <td>0</td>\n",
       "      <td>0</td>\n",
       "      <td>0</td>\n",
       "      <td>0</td>\n",
       "      <td>0</td>\n",
       "      <td>0</td>\n",
       "    </tr>\n",
       "  </tbody>\n",
       "</table>\n",
       "<p>5 rows × 500 columns</p>\n",
       "</div>"
      ],
      "text/plain": [
       "        0      1      2     3      4     5     6     7       8      9  ...  \\\n",
       "0       1    731  13299  2726   1078    36  1242    86     549  32566  ...   \n",
       "1     537  50550      9    16    133   243   505  6078   90995    614  ...   \n",
       "2  105493    144   1068   367  40384  1817   147   925     169    683  ...   \n",
       "3     836    744     33     2   1504   357    84  1181  101671     11  ...   \n",
       "4      35  17605    225  1417   5077   583  1033  1078  126586  15896  ...   \n",
       "\n",
       "     490   491   492  493  494  495  496   497  498    499  \n",
       "0      0     0     0    0    0    0    0     0    0      0  \n",
       "1      0     0     0    0    0    0    0     0    0      0  \n",
       "2  37445  1871  1871  434  680  169  159  1909   44  11322  \n",
       "3      0     0     0    0    0    0    0     0    0      0  \n",
       "4      0     0     0    0    0    0    0     0    0      0  \n",
       "\n",
       "[5 rows x 500 columns]"
      ]
     },
     "execution_count": 66,
     "metadata": {},
     "output_type": "execute_result"
    }
   ],
   "source": [
    "B.head()"
   ]
  },
  {
   "cell_type": "code",
   "execution_count": 220,
   "metadata": {},
   "outputs": [],
   "source": []
  },
  {
   "cell_type": "code",
   "execution_count": 221,
   "metadata": {},
   "outputs": [
    {
     "data": {
      "text/html": [
       "<div>\n",
       "<style scoped>\n",
       "    .dataframe tbody tr th:only-of-type {\n",
       "        vertical-align: middle;\n",
       "    }\n",
       "\n",
       "    .dataframe tbody tr th {\n",
       "        vertical-align: top;\n",
       "    }\n",
       "\n",
       "    .dataframe thead th {\n",
       "        text-align: right;\n",
       "    }\n",
       "</style>\n",
       "<table border=\"1\" class=\"dataframe\">\n",
       "  <thead>\n",
       "    <tr style=\"text-align: right;\">\n",
       "      <th></th>\n",
       "      <th>0</th>\n",
       "      <th>1</th>\n",
       "      <th>2</th>\n",
       "      <th>3</th>\n",
       "      <th>4</th>\n",
       "      <th>5</th>\n",
       "      <th>6</th>\n",
       "      <th>7</th>\n",
       "      <th>8</th>\n",
       "      <th>9</th>\n",
       "      <th>...</th>\n",
       "      <th>490</th>\n",
       "      <th>491</th>\n",
       "      <th>492</th>\n",
       "      <th>493</th>\n",
       "      <th>494</th>\n",
       "      <th>495</th>\n",
       "      <th>496</th>\n",
       "      <th>497</th>\n",
       "      <th>498</th>\n",
       "      <th>499</th>\n",
       "    </tr>\n",
       "  </thead>\n",
       "  <tbody>\n",
       "    <tr>\n",
       "      <th>0</th>\n",
       "      <td>1261</td>\n",
       "      <td>509</td>\n",
       "      <td>1228</td>\n",
       "      <td>1191</td>\n",
       "      <td>18829</td>\n",
       "      <td>130563</td>\n",
       "      <td>33</td>\n",
       "      <td>9</td>\n",
       "      <td>223</td>\n",
       "      <td>2600</td>\n",
       "      <td>...</td>\n",
       "      <td>0</td>\n",
       "      <td>0</td>\n",
       "      <td>0</td>\n",
       "      <td>0</td>\n",
       "      <td>0</td>\n",
       "      <td>0</td>\n",
       "      <td>0</td>\n",
       "      <td>0</td>\n",
       "      <td>0</td>\n",
       "      <td>0</td>\n",
       "    </tr>\n",
       "    <tr>\n",
       "      <th>1</th>\n",
       "      <td>626</td>\n",
       "      <td>420</td>\n",
       "      <td>6147</td>\n",
       "      <td>4049</td>\n",
       "      <td>409</td>\n",
       "      <td>48741</td>\n",
       "      <td>143320</td>\n",
       "      <td>420</td>\n",
       "      <td>6147</td>\n",
       "      <td>4049</td>\n",
       "      <td>...</td>\n",
       "      <td>0</td>\n",
       "      <td>0</td>\n",
       "      <td>0</td>\n",
       "      <td>0</td>\n",
       "      <td>0</td>\n",
       "      <td>0</td>\n",
       "      <td>0</td>\n",
       "      <td>0</td>\n",
       "      <td>0</td>\n",
       "      <td>0</td>\n",
       "    </tr>\n",
       "    <tr>\n",
       "      <th>2</th>\n",
       "      <td>323</td>\n",
       "      <td>717</td>\n",
       "      <td>7134</td>\n",
       "      <td>7</td>\n",
       "      <td>1201</td>\n",
       "      <td>2892</td>\n",
       "      <td>118282</td>\n",
       "      <td>717</td>\n",
       "      <td>7134</td>\n",
       "      <td>7</td>\n",
       "      <td>...</td>\n",
       "      <td>0</td>\n",
       "      <td>0</td>\n",
       "      <td>0</td>\n",
       "      <td>0</td>\n",
       "      <td>0</td>\n",
       "      <td>0</td>\n",
       "      <td>0</td>\n",
       "      <td>0</td>\n",
       "      <td>0</td>\n",
       "      <td>0</td>\n",
       "    </tr>\n",
       "    <tr>\n",
       "      <th>3</th>\n",
       "      <td>146</td>\n",
       "      <td>10</td>\n",
       "      <td>386</td>\n",
       "      <td>7767</td>\n",
       "      <td>207</td>\n",
       "      <td>3</td>\n",
       "      <td>18579</td>\n",
       "      <td>806</td>\n",
       "      <td>1141</td>\n",
       "      <td>1</td>\n",
       "      <td>...</td>\n",
       "      <td>2512</td>\n",
       "      <td>3774</td>\n",
       "      <td>757</td>\n",
       "      <td>437</td>\n",
       "      <td>369</td>\n",
       "      <td>1985</td>\n",
       "      <td>437</td>\n",
       "      <td>466</td>\n",
       "      <td>239</td>\n",
       "      <td>144</td>\n",
       "    </tr>\n",
       "    <tr>\n",
       "      <th>4</th>\n",
       "      <td>3052</td>\n",
       "      <td>1278</td>\n",
       "      <td>35</td>\n",
       "      <td>1092</td>\n",
       "      <td>1639</td>\n",
       "      <td>657</td>\n",
       "      <td>2127</td>\n",
       "      <td>1278</td>\n",
       "      <td>114</td>\n",
       "      <td>703</td>\n",
       "      <td>...</td>\n",
       "      <td>1087</td>\n",
       "      <td>124</td>\n",
       "      <td>465</td>\n",
       "      <td>922</td>\n",
       "      <td>1846</td>\n",
       "      <td>9</td>\n",
       "      <td>685</td>\n",
       "      <td>4050</td>\n",
       "      <td>673</td>\n",
       "      <td>883</td>\n",
       "    </tr>\n",
       "  </tbody>\n",
       "</table>\n",
       "<p>5 rows × 500 columns</p>\n",
       "</div>"
      ],
      "text/plain": [
       "      0     1     2     3      4       5       6     7     8     9  ...   490  \\\n",
       "0  1261   509  1228  1191  18829  130563      33     9   223  2600  ...     0   \n",
       "1   626   420  6147  4049    409   48741  143320   420  6147  4049  ...     0   \n",
       "2   323   717  7134     7   1201    2892  118282   717  7134     7  ...     0   \n",
       "3   146    10   386  7767    207       3   18579   806  1141     1  ...  2512   \n",
       "4  3052  1278    35  1092   1639     657    2127  1278   114   703  ...  1087   \n",
       "\n",
       "    491  492  493   494   495  496   497  498  499  \n",
       "0     0    0    0     0     0    0     0    0    0  \n",
       "1     0    0    0     0     0    0     0    0    0  \n",
       "2     0    0    0     0     0    0     0    0    0  \n",
       "3  3774  757  437   369  1985  437   466  239  144  \n",
       "4   124  465  922  1846     9  685  4050  673  883  \n",
       "\n",
       "[5 rows x 500 columns]"
      ]
     },
     "execution_count": 221,
     "metadata": {},
     "output_type": "execute_result"
    }
   ],
   "source": []
  },
  {
   "cell_type": "code",
   "execution_count": 67,
   "metadata": {},
   "outputs": [],
   "source": [
    "B.to_csv(\"final_x_train.csv\")"
   ]
  },
  {
   "cell_type": "code",
   "execution_count": 68,
   "metadata": {},
   "outputs": [
    {
     "data": {
      "text/plain": [
       "(18914, 500)"
      ]
     },
     "execution_count": 68,
     "metadata": {},
     "output_type": "execute_result"
    }
   ],
   "source": [
    "B.shape"
   ]
  },
  {
   "cell_type": "code",
   "execution_count": 69,
   "metadata": {},
   "outputs": [],
   "source": [
    "C=pd.DataFrame(y_train_over)"
   ]
  },
  {
   "cell_type": "code",
   "execution_count": 70,
   "metadata": {},
   "outputs": [],
   "source": [
    "C.to_csv(\"final_y_train.csv\",index=False)"
   ]
  },
  {
   "cell_type": "code",
   "execution_count": 71,
   "metadata": {},
   "outputs": [
    {
     "data": {
      "text/plain": [
       "(18914, 1)"
      ]
     },
     "execution_count": 71,
     "metadata": {},
     "output_type": "execute_result"
    }
   ],
   "source": [
    "C.shape"
   ]
  },
  {
   "cell_type": "code",
   "execution_count": 72,
   "metadata": {},
   "outputs": [],
   "source": [
    "D=pd.read_csv(\"final_y_train.csv\")"
   ]
  },
  {
   "cell_type": "code",
   "execution_count": 228,
   "metadata": {},
   "outputs": [],
   "source": []
  },
  {
   "cell_type": "code",
   "execution_count": 229,
   "metadata": {},
   "outputs": [
    {
     "ename": "AttributeError",
     "evalue": "'numpy.ndarray' object has no attribute 'random'",
     "output_type": "error",
     "traceback": [
      "\u001b[1;31m---------------------------------------------------------------------------\u001b[0m",
      "\u001b[1;31mAttributeError\u001b[0m                            Traceback (most recent call last)",
      "\u001b[1;32m<ipython-input-229-fa1e558f7f6a>\u001b[0m in \u001b[0;36m<module>\u001b[1;34m\u001b[0m\n\u001b[1;32m----> 1\u001b[1;33m \u001b[0mD\u001b[0m\u001b[1;33m.\u001b[0m\u001b[0mrandom\u001b[0m\u001b[1;33m.\u001b[0m\u001b[0mshuffle\u001b[0m\u001b[1;33m\u001b[0m\u001b[1;33m\u001b[0m\u001b[0m\n\u001b[0m",
      "\u001b[1;31mAttributeError\u001b[0m: 'numpy.ndarray' object has no attribute 'random'"
     ]
    }
   ],
   "source": []
  },
  {
   "cell_type": "code",
   "execution_count": 73,
   "metadata": {},
   "outputs": [],
   "source": [
    "X=pd.DataFrame(X_test)\n"
   ]
  },
  {
   "cell_type": "code",
   "execution_count": 74,
   "metadata": {},
   "outputs": [],
   "source": [
    "Y=pd.DataFrame(y_test)"
   ]
  },
  {
   "cell_type": "code",
   "execution_count": 75,
   "metadata": {},
   "outputs": [],
   "source": [
    "M=X.to_csv(\"final_test_set.csv\",index=False)"
   ]
  },
  {
   "cell_type": "code",
   "execution_count": 76,
   "metadata": {},
   "outputs": [
    {
     "ename": "AttributeError",
     "evalue": "'NoneType' object has no attribute 'head'",
     "output_type": "error",
     "traceback": [
      "\u001b[1;31m---------------------------------------------------------------------------\u001b[0m",
      "\u001b[1;31mAttributeError\u001b[0m                            Traceback (most recent call last)",
      "\u001b[1;32m<ipython-input-76-501cd6b935b0>\u001b[0m in \u001b[0;36m<module>\u001b[1;34m\u001b[0m\n\u001b[1;32m----> 1\u001b[1;33m \u001b[0mM\u001b[0m\u001b[1;33m.\u001b[0m\u001b[0mhead\u001b[0m\u001b[1;33m(\u001b[0m\u001b[1;33m)\u001b[0m\u001b[1;33m\u001b[0m\u001b[1;33m\u001b[0m\u001b[0m\n\u001b[0m",
      "\u001b[1;31mAttributeError\u001b[0m: 'NoneType' object has no attribute 'head'"
     ]
    }
   ],
   "source": [
    "M.head()"
   ]
  },
  {
   "cell_type": "code",
   "execution_count": 78,
   "metadata": {},
   "outputs": [],
   "source": [
    "N=Y.to_csv(\"final_test_label.csv\",index=False)"
   ]
  },
  {
   "cell_type": "code",
   "execution_count": 79,
   "metadata": {},
   "outputs": [
    {
     "ename": "AttributeError",
     "evalue": "'NoneType' object has no attribute 'head'",
     "output_type": "error",
     "traceback": [
      "\u001b[1;31m---------------------------------------------------------------------------\u001b[0m",
      "\u001b[1;31mAttributeError\u001b[0m                            Traceback (most recent call last)",
      "\u001b[1;32m<ipython-input-79-fc7c125d551a>\u001b[0m in \u001b[0;36m<module>\u001b[1;34m\u001b[0m\n\u001b[1;32m----> 1\u001b[1;33m \u001b[0mN\u001b[0m\u001b[1;33m.\u001b[0m\u001b[0mhead\u001b[0m\u001b[1;33m(\u001b[0m\u001b[1;33m)\u001b[0m\u001b[1;33m\u001b[0m\u001b[1;33m\u001b[0m\u001b[0m\n\u001b[0m",
      "\u001b[1;31mAttributeError\u001b[0m: 'NoneType' object has no attribute 'head'"
     ]
    }
   ],
   "source": [
    "N.head()"
   ]
  },
  {
   "cell_type": "code",
   "execution_count": 80,
   "metadata": {},
   "outputs": [
    {
     "ename": "AttributeError",
     "evalue": "'NoneType' object has no attribute 'shape'",
     "output_type": "error",
     "traceback": [
      "\u001b[1;31m---------------------------------------------------------------------------\u001b[0m",
      "\u001b[1;31mAttributeError\u001b[0m                            Traceback (most recent call last)",
      "\u001b[1;32m<ipython-input-80-7e6f3b2755c1>\u001b[0m in \u001b[0;36m<module>\u001b[1;34m\u001b[0m\n\u001b[1;32m----> 1\u001b[1;33m \u001b[0mprint\u001b[0m\u001b[1;33m(\u001b[0m\u001b[0mN\u001b[0m\u001b[1;33m.\u001b[0m\u001b[0mshape\u001b[0m\u001b[1;33m)\u001b[0m\u001b[1;33m\u001b[0m\u001b[1;33m\u001b[0m\u001b[0m\n\u001b[0m",
      "\u001b[1;31mAttributeError\u001b[0m: 'NoneType' object has no attribute 'shape'"
     ]
    }
   ],
   "source": [
    "print(N.shape)"
   ]
  },
  {
   "cell_type": "code",
   "execution_count": null,
   "metadata": {},
   "outputs": [],
   "source": []
  },
  {
   "cell_type": "code",
   "execution_count": 77,
   "metadata": {},
   "outputs": [
    {
     "name": "stdout",
     "output_type": "stream",
     "text": [
      "Requirement already satisfied: ipython in c:\\users\\hp\\anaconda3\\lib\\site-packages (7.15.0)\n",
      "Requirement already satisfied: colorama; sys_platform == \"win32\" in c:\\users\\hp\\anaconda3\\lib\\site-packages (from ipython) (0.4.3)\n",
      "Requirement already satisfied: prompt-toolkit!=3.0.0,!=3.0.1,<3.1.0,>=2.0.0 in c:\\users\\hp\\anaconda3\\lib\\site-packages (from ipython) (3.0.5)\n",
      "Requirement already satisfied: backcall in c:\\users\\hp\\anaconda3\\lib\\site-packages (from ipython) (0.2.0)\n",
      "Requirement already satisfied: jedi>=0.10 in c:\\users\\hp\\anaconda3\\lib\\site-packages (from ipython) (0.15.2)\n",
      "Requirement already satisfied: traitlets>=4.2 in c:\\users\\hp\\anaconda3\\lib\\site-packages (from ipython) (4.3.3)\n",
      "Requirement already satisfied: decorator in c:\\users\\hp\\anaconda3\\lib\\site-packages (from ipython) (4.4.2)\n",
      "Requirement already satisfied: pickleshare in c:\\users\\hp\\anaconda3\\lib\\site-packages (from ipython) (0.7.5)\n",
      "Requirement already satisfied: setuptools>=18.5 in c:\\users\\hp\\anaconda3\\lib\\site-packages (from ipython) (47.3.1.post20200622)\n",
      "Requirement already satisfied: pygments in c:\\users\\hp\\anaconda3\\lib\\site-packages (from ipython) (2.6.1)\n",
      "Requirement already satisfied: wcwidth in c:\\users\\hp\\anaconda3\\lib\\site-packages (from prompt-toolkit!=3.0.0,!=3.0.1,<3.1.0,>=2.0.0->ipython) (0.2.4)\n",
      "Requirement already satisfied: parso>=0.5.2 in c:\\users\\hp\\anaconda3\\lib\\site-packages (from jedi>=0.10->ipython) (0.5.2)\n",
      "Requirement already satisfied: six in c:\\users\\hp\\anaconda3\\lib\\site-packages (from traitlets>=4.2->ipython) (1.12.0)\n",
      "Requirement already satisfied: ipython-genutils in c:\\users\\hp\\anaconda3\\lib\\site-packages (from traitlets>=4.2->ipython) (0.2.0)\n"
     ]
    }
   ],
   "source": [
    "!pip install ipython"
   ]
  },
  {
   "cell_type": "code",
   "execution_count": 78,
   "metadata": {},
   "outputs": [
    {
     "name": "stdout",
     "output_type": "stream",
     "text": [
      "Requirement already satisfied: nbconvert in c:\\users\\hp\\anaconda3\\lib\\site-packages (5.6.1)\n",
      "Requirement already satisfied: defusedxml in c:\\users\\hp\\anaconda3\\lib\\site-packages (from nbconvert) (0.6.0)\n",
      "Requirement already satisfied: jupyter-core in c:\\users\\hp\\anaconda3\\lib\\site-packages (from nbconvert) (4.6.3)\n",
      "Requirement already satisfied: traitlets>=4.2 in c:\\users\\hp\\anaconda3\\lib\\site-packages (from nbconvert) (4.3.3)\n",
      "Requirement already satisfied: pygments in c:\\users\\hp\\anaconda3\\lib\\site-packages (from nbconvert) (2.6.1)\n",
      "Requirement already satisfied: jinja2>=2.4 in c:\\users\\hp\\anaconda3\\lib\\site-packages (from nbconvert) (2.10)\n",
      "Requirement already satisfied: testpath in c:\\users\\hp\\anaconda3\\lib\\site-packages (from nbconvert) (0.4.4)\n",
      "Requirement already satisfied: bleach in c:\\users\\hp\\anaconda3\\lib\\site-packages (from nbconvert) (3.1.5)\n",
      "Requirement already satisfied: entrypoints>=0.2.2 in c:\\users\\hp\\anaconda3\\lib\\site-packages (from nbconvert) (0.3)\n",
      "Requirement already satisfied: mistune<2,>=0.8.1 in c:\\users\\hp\\anaconda3\\lib\\site-packages (from nbconvert) (0.8.4)\n",
      "Requirement already satisfied: pandocfilters>=1.4.1 in c:\\users\\hp\\anaconda3\\lib\\site-packages (from nbconvert) (1.4.2)\n",
      "Requirement already satisfied: nbformat>=4.4 in c:\\users\\hp\\anaconda3\\lib\\site-packages (from nbconvert) (5.0.7)\n",
      "Requirement already satisfied: pywin32>=1.0; sys_platform == \"win32\" in c:\\users\\hp\\anaconda3\\lib\\site-packages (from jupyter-core->nbconvert) (227)\n",
      "Requirement already satisfied: six in c:\\users\\hp\\anaconda3\\lib\\site-packages (from traitlets>=4.2->nbconvert) (1.12.0)\n",
      "Requirement already satisfied: decorator in c:\\users\\hp\\anaconda3\\lib\\site-packages (from traitlets>=4.2->nbconvert) (4.4.2)\n",
      "Requirement already satisfied: ipython-genutils in c:\\users\\hp\\anaconda3\\lib\\site-packages (from traitlets>=4.2->nbconvert) (0.2.0)\n",
      "Requirement already satisfied: MarkupSafe>=0.23 in c:\\users\\hp\\anaconda3\\lib\\site-packages (from jinja2>=2.4->nbconvert) (1.1.1)\n",
      "Requirement already satisfied: webencodings in c:\\users\\hp\\anaconda3\\lib\\site-packages (from bleach->nbconvert) (0.5.1)\n",
      "Requirement already satisfied: packaging in c:\\users\\hp\\anaconda3\\lib\\site-packages (from bleach->nbconvert) (20.4)\n",
      "Requirement already satisfied: jsonschema!=2.5.0,>=2.4 in c:\\users\\hp\\anaconda3\\lib\\site-packages (from nbformat>=4.4->nbconvert) (3.2.0)\n",
      "Requirement already satisfied: pyparsing>=2.0.2 in c:\\users\\hp\\anaconda3\\lib\\site-packages (from packaging->bleach->nbconvert) (2.4.7)\n",
      "Requirement already satisfied: pyrsistent>=0.14.0 in c:\\users\\hp\\anaconda3\\lib\\site-packages (from jsonschema!=2.5.0,>=2.4->nbformat>=4.4->nbconvert) (0.16.0)\n",
      "Requirement already satisfied: importlib-metadata; python_version < \"3.8\" in c:\\users\\hp\\anaconda3\\lib\\site-packages (from jsonschema!=2.5.0,>=2.4->nbformat>=4.4->nbconvert) (1.6.1)\n",
      "Requirement already satisfied: attrs>=17.4.0 in c:\\users\\hp\\anaconda3\\lib\\site-packages (from jsonschema!=2.5.0,>=2.4->nbformat>=4.4->nbconvert) (19.3.0)\n",
      "Requirement already satisfied: setuptools in c:\\users\\hp\\anaconda3\\lib\\site-packages (from jsonschema!=2.5.0,>=2.4->nbformat>=4.4->nbconvert) (47.3.1.post20200622)\n",
      "Requirement already satisfied: zipp>=0.5 in c:\\users\\hp\\anaconda3\\lib\\site-packages (from importlib-metadata; python_version < \"3.8\"->jsonschema!=2.5.0,>=2.4->nbformat>=4.4->nbconvert) (3.1.0)\n"
     ]
    }
   ],
   "source": [
    "!pip install nbconvert"
   ]
  },
  {
   "cell_type": "code",
   "execution_count": 86,
   "metadata": {},
   "outputs": [
    {
     "ename": "SyntaxError",
     "evalue": "invalid syntax (<ipython-input-86-41ffb971fba6>, line 1)",
     "output_type": "error",
     "traceback": [
      "\u001b[1;36m  File \u001b[1;32m\"<ipython-input-86-41ffb971fba6>\"\u001b[1;36m, line \u001b[1;32m1\u001b[0m\n\u001b[1;33m    ipython nbconvert - to script abc.ipynb\u001b[0m\n\u001b[1;37m                    ^\u001b[0m\n\u001b[1;31mSyntaxError\u001b[0m\u001b[1;31m:\u001b[0m invalid syntax\n"
     ]
    }
   ],
   "source": [
    "ipython nbconvert - to script abc.ipynb"
   ]
  },
  {
   "cell_type": "code",
   "execution_count": null,
   "metadata": {},
   "outputs": [],
   "source": []
  }
 ],
 "metadata": {
  "kernelspec": {
   "display_name": "Python 3",
   "language": "python",
   "name": "python3"
  },
  "language_info": {
   "codemirror_mode": {
    "name": "ipython",
    "version": 3
   },
   "file_extension": ".py",
   "mimetype": "text/x-python",
   "name": "python",
   "nbconvert_exporter": "python",
   "pygments_lexer": "ipython3",
   "version": "3.7.7"
  }
 },
 "nbformat": 4,
 "nbformat_minor": 4
}
