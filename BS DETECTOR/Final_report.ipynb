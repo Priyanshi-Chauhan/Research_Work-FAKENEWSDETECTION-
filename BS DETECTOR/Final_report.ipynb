{
 "cells": [
  {
   "cell_type": "code",
   "execution_count": null,
   "metadata": {
    "colab": {},
    "colab_type": "code",
    "id": "fnGVCpmZiH-E"
   },
   "outputs": [],
   "source": [
    "\n",
    "# Imports|\n",
    "from __future__ import division\n",
    "import pandas as pd\n",
    "import numpy as np\n",
    "import cupy as cp # You need to have a CUDA-enabled GPU to use this package!\n",
    "import time"
   ]
  },
  {
   "cell_type": "code",
   "execution_count": null,
   "metadata": {
    "colab": {},
    "colab_type": "code",
    "id": "aKCc5DTWkCOU"
   },
   "outputs": [],
   "source": [
    "A=pd.read_csv(\"final_x_train.csv\")\n",
    "B=pd.read_csv(\"final_y_train.csv\")\n",
    "C=pd.read_csv(\"final_test_set.csv\")\n",
    "D=pd.read_csv(\"final_test_label.csv\")"
   ]
  },
  {
   "cell_type": "code",
   "execution_count": null,
   "metadata": {
    "colab": {},
    "colab_type": "code",
    "id": "PjmdPLHEkEk3"
   },
   "outputs": [],
   "source": [
    "x_train_prev=A.values\n",
    "x_train_labels_prev=B.values\n",
    "x_test_prev=C.values\n",
    "x_test_labels_prev=D.values"
   ]
  },
  {
   "cell_type": "code",
   "execution_count": null,
   "metadata": {
    "colab": {
     "base_uri": "https://localhost:8080/",
     "height": 34
    },
    "colab_type": "code",
    "id": "bJinI-8QkNbd",
    "outputId": "bfe00ea2-953f-4cfd-a3bc-1c71cbd4e3c9"
   },
   "outputs": [
    {
     "data": {
      "text/plain": [
       "(18882, 577)"
      ]
     },
     "execution_count": 76,
     "metadata": {
      "tags": []
     },
     "output_type": "execute_result"
    }
   ],
   "source": [
    "x_train_prev.shape"
   ]
  },
  {
   "cell_type": "code",
   "execution_count": null,
   "metadata": {
    "colab": {
     "base_uri": "https://localhost:8080/",
     "height": 134
    },
    "colab_type": "code",
    "id": "ugpzc0WOpnLC",
    "outputId": "b4fb3707-ac6a-4a5a-b3c0-162c0b0dcf50"
   },
   "outputs": [
    {
     "data": {
      "text/plain": [
       "array([[    0,  1331,  1331, ...,     0,     0,     0],\n",
       "       [    1,  5098,   211, ...,     0,     0,     0],\n",
       "       [    2,   253,    22, ...,     0,     0,     0],\n",
       "       ...,\n",
       "       [18879,   697, 11670, ...,     0,     0,     0],\n",
       "       [18880,  1305,  1211, ...,     0,     0,     0],\n",
       "       [18881, 25137,  3342, ...,     0,     0,     0]])"
      ]
     },
     "execution_count": 77,
     "metadata": {
      "tags": []
     },
     "output_type": "execute_result"
    }
   ],
   "source": [
    "x_train_prev"
   ]
  },
  {
   "cell_type": "code",
   "execution_count": null,
   "metadata": {
    "colab": {},
    "colab_type": "code",
    "id": "jAVXht6TpNTo"
   },
   "outputs": [],
   "source": [
    "x_train_prev=x_train_prev[:,1:]"
   ]
  },
  {
   "cell_type": "code",
   "execution_count": null,
   "metadata": {
    "colab": {},
    "colab_type": "code",
    "id": "whyBXvUWqBWD"
   },
   "outputs": [],
   "source": [
    "#x_train_prev"
   ]
  },
  {
   "cell_type": "code",
   "execution_count": null,
   "metadata": {
    "colab": {},
    "colab_type": "code",
    "id": "5pMTwVtzkQxx"
   },
   "outputs": [],
   "source": [
    "#Parameter setting\n",
    "thr = [100, 100, 100]   #The threshold of hidden and output neurons\n",
    "lr = [.2,.2,.2]    #The learning rate of hidden and ouput neurons\n",
    "lamda=[0.000001,0.000001,0.000001]   # The regularization penalty for hidden and ouput neurons\n",
    "b=[5,10,48]    #The upper bound of wight initializations for hidden and ouput neurons\n",
    "a=[0,0,0]    #The lower bound of wight initializations for hidden and ouput neurons\n",
    "Nepoch = 20    #The maximum number of training epochs\n",
    "NumOfClasses = 2  #Number of classes\n",
    "Nlayers = 3    #Number of layers\n",
    "NhidenNeurons1 =200   #Number of hidden neurons\n",
    "NhidenNeurons2 =200  #Number of hidden neurons\n",
    "Dropout=[0,0,0] \n",
    "tmax = 256  #Simulatin time\n",
    "gamma=3 #The gamma parameter in the relative target firing calculation"
   ]
  },
  {
   "cell_type": "code",
   "execution_count": null,
   "metadata": {
    "colab": {},
    "colab_type": "code",
    "id": "k1m8GpeikU25"
   },
   "outputs": [],
   "source": [
    "\n",
    "#General settings\n",
    "loading=False   # Set it as True if you want to load a pretrained model\n",
    "LoadFrom= \"weights.npy\"  # The pretrained model\n",
    "saving=False    # Set it as True if you want to save the trained model\n",
    "best_perf=0\n",
    "Nnrn = [NhidenNeurons1,NhidenNeurons2, NumOfClasses]   # Number of neurons at hidden and output layers\n",
    "cats=[1,0] # Reordering the categories"
   ]
  },
  {
   "cell_type": "code",
   "execution_count": null,
   "metadata": {
    "colab": {},
    "colab_type": "code",
    "id": "1_VKX0FRkj0s"
   },
   "outputs": [],
   "source": [
    "#General variables\n",
    "x_train=[]  # To keep training images\n",
    "x_train_labels=[]  # To keep training labels\n",
    "x_test=[]  # To keep test images\n",
    "x_test_labels=[]  # To keep test labels\n",
    "W=[] #To hold the weights of hidden and output layers\n",
    "firingTime=[] #To hold the firing times of hidden and output layers\n",
    "Spikes=[] #To hold the spike trains of hidden and output layers\n",
    "X=[] #To be used in converting firing times to spike trains\n",
    "target = cp.zeros([NumOfClasses]) # To keep the target firing times of current image\n",
    "FiringFrequency=[] # to count number of spikes each neuron emits during an epoch"
   ]
  },
  {
   "cell_type": "code",
   "execution_count": null,
   "metadata": {
    "colab": {},
    "colab_type": "code",
    "id": "JCBCYdBxo7c6"
   },
   "outputs": [],
   "source": [
    "#loading dataset\n",
    "   \n",
    "for i in range(len(x_train_labels_prev)):\n",
    "  x_train.append(np.floor(x_train_prev[i].reshape(24,24)).astype(int))\n",
    "  \n",
    "  \n",
    "for i in range(len(x_test_labels_prev)):           \n",
    "  x_test.append(np.floor(x_test_prev[i].reshape(24,24)).astype(int)) \n",
    "\n",
    "\n",
    "x_train = cp.asarray(x_train)\n",
    "x_train_labels = cp.asarray(x_train_labels_prev)\n",
    "x_test = cp.asarray(x_test)\n",
    "x_test_labels= cp.asarray(x_test_labels_prev)  "
   ]
  },
  {
   "cell_type": "code",
   "execution_count": null,
   "metadata": {
    "colab": {
     "base_uri": "https://localhost:8080/",
     "height": 840
    },
    "colab_type": "code",
    "id": "vT4HqqCMpB5R",
    "outputId": "fe3ef7d5-ba8c-4fae-99bc-3970ed5a67bb"
   },
   "outputs": [
    {
     "data": {
      "text/plain": [
       "array([[[ 1331,  1331,  2241, ...,  1331,  1331,  1331],\n",
       "        [ 1331, 42574,  4174, ...,     0,     0,     0],\n",
       "        [    0,     0,     0, ...,     0,     0,     0],\n",
       "        ...,\n",
       "        [    0,     0,     0, ...,     0,     0,     0],\n",
       "        [    0,     0,     0, ...,     0,     0,     0],\n",
       "        [    0,     0,     0, ...,     0,     0,     0]],\n",
       "\n",
       "       [[ 5098,   211,  2276, ...,   898,  6398,    14],\n",
       "        [   69,  3290,  2276, ...,  1874,  5249,  2142],\n",
       "        [ 3290,  8362,  2704, ..., 87413,  6398, 87414],\n",
       "        ...,\n",
       "        [    0,     0,     0, ...,     0,     0,     0],\n",
       "        [    0,     0,     0, ...,     0,     0,     0],\n",
       "        [    0,     0,     0, ...,     0,     0,     0]],\n",
       "\n",
       "       [[  253,    22,   150, ...,   253,    22,   150],\n",
       "        [  103,   152,    14, ...,  2900,    64,   170],\n",
       "        [ 1814,  7193,  1193, ...,    40,   305,   295],\n",
       "        ...,\n",
       "        [    0,     0,     0, ...,     0,     0,     0],\n",
       "        [    0,     0,     0, ...,     0,     0,     0],\n",
       "        [    0,     0,     0, ...,     0,     0,     0]],\n",
       "\n",
       "       ...,\n",
       "\n",
       "       [[  697, 11670,   247, ..., 16573,  3065,     8],\n",
       "        [  135,   207,   311, ...,  5877,  8494,   274],\n",
       "        [  901, 12625,  2764, ...,   367,  2858,  9366],\n",
       "        ...,\n",
       "        [    0,     0,     0, ...,     0,     0,     0],\n",
       "        [    0,     0,     0, ...,     0,     0,     0],\n",
       "        [    0,     0,     0, ...,     0,     0,     0]],\n",
       "\n",
       "       [[ 1305,  1211,   122, ...,  2386,  1151,  5732],\n",
       "        [ 1457,  2941,   357, ...,   331,   122,   449],\n",
       "        [ 1738,  1632,   659, ...,  1328,   203,  4646],\n",
       "        ...,\n",
       "        [    0,     0,     0, ...,     0,     0,     0],\n",
       "        [    0,     0,     0, ...,     0,     0,     0],\n",
       "        [    0,     0,     0, ...,     0,     0,     0]],\n",
       "\n",
       "       [[25137,  3342,  4017, ...,   904,  4516,  3855],\n",
       "        [  211,  2418,  2431, ...,  2013,  5771,  3416],\n",
       "        [13571, 15226,  2093, ...,   736,   958,   414],\n",
       "        ...,\n",
       "        [    0,     0,     0, ...,     0,     0,     0],\n",
       "        [    0,     0,     0, ...,     0,     0,     0],\n",
       "        [    0,     0,     0, ...,     0,     0,     0]]])"
      ]
     },
     "execution_count": 86,
     "metadata": {
      "tags": []
     },
     "output_type": "execute_result"
    }
   ],
   "source": [
    "x_train"
   ]
  },
  {
   "cell_type": "code",
   "execution_count": null,
   "metadata": {
    "colab": {
     "base_uri": "https://localhost:8080/",
     "height": 34
    },
    "colab_type": "code",
    "id": "piIJ5R2HpazT",
    "outputId": "3a0d50ff-18a8-4db9-d8dc-bb93aafa292b"
   },
   "outputs": [
    {
     "data": {
      "text/plain": [
       "(18882, 24, 24)"
      ]
     },
     "execution_count": 87,
     "metadata": {
      "tags": []
     },
     "output_type": "execute_result"
    }
   ],
   "source": [
    "x_train.shape"
   ]
  },
  {
   "cell_type": "code",
   "execution_count": null,
   "metadata": {
    "colab": {
     "base_uri": "https://localhost:8080/",
     "height": 34
    },
    "colab_type": "code",
    "id": "g6MWpk6VrQrT",
    "outputId": "925d8e78-09fe-434d-806e-5a0e94fd930a"
   },
   "outputs": [
    {
     "data": {
      "text/plain": [
       "(18882, 1)"
      ]
     },
     "execution_count": 88,
     "metadata": {
      "tags": []
     },
     "output_type": "execute_result"
    }
   ],
   "source": [
    "x_train_labels.shape"
   ]
  },
  {
   "cell_type": "code",
   "execution_count": null,
   "metadata": {
    "colab": {},
    "colab_type": "code",
    "id": "kDkRaOX4sBL6"
   },
   "outputs": [],
   "source": [
    "#Building the model\n",
    "layerSize=[[x_train[0].shape[0],x_train[0].shape[1]], [NhidenNeurons1,1],[NhidenNeurons2,1],[NumOfClasses,1]]    \n",
    "x = cp.mgrid[0:layerSize[0][0],0:layerSize[0][1]]# To be used in converting raw image into a spike image\n",
    "SpikeImage = cp.zeros((layerSize[0][0],layerSize[0][1], tmax+1)) # To keep spike image\n",
    "\n",
    "# Initializing the network\n",
    "np.random.seed(0)\n",
    "for layer in range(Nlayers):\n",
    "    W.append(cp.asarray((b[layer] - a[layer]) * np.random.random_sample((Nnrn[layer], layerSize[layer][0],layerSize[layer][1])) + a[layer])) \n",
    "    firingTime.append(cp.asarray(np.zeros(Nnrn[layer])))\n",
    "    Spikes.append(cp.asarray(np.zeros((layerSize[layer+1][0],layerSize[layer+1][1],tmax+1))))\n",
    "    X.append(cp.asarray(np.mgrid[0:layerSize[layer+1][0],0:layerSize[layer+1][1]]))\n",
    "\n",
    "SpikeList=[SpikeImage]+Spikes"
   ]
  },
  {
   "cell_type": "code",
   "execution_count": null,
   "metadata": {
    "colab": {
     "base_uri": "https://localhost:8080/",
     "height": 464
    },
    "colab_type": "code",
    "id": "GM3L9v9TvqeM",
    "outputId": "b7f6673b-29aa-440a-8164-cd998eff73e8"
   },
   "outputs": [
    {
     "name": "stdout",
     "output_type": "stream",
     "text": [
      "epoch=  0 Perf_train=  0.5 Perf_test=  0.032586558044806514\n",
      "--- 179.01365399360657 seconds ---\n"
     ]
    },
    {
     "ename": "KeyboardInterrupt",
     "evalue": "ignored",
     "output_type": "error",
     "traceback": [
      "\u001b[0;31m---------------------------------------------------------------------------\u001b[0m",
      "\u001b[0;31mKeyboardInterrupt\u001b[0m                         Traceback (most recent call last)",
      "\u001b[0;32m<ipython-input-90-f8af4235e7ac>\u001b[0m in \u001b[0;36m<module>\u001b[0;34m()\u001b[0m\n\u001b[1;32m     32\u001b[0m             \u001b[0mtarget\u001b[0m\u001b[0;34m=\u001b[0m\u001b[0mtarget\u001b[0m\u001b[0;34m.\u001b[0m\u001b[0mastype\u001b[0m\u001b[0;34m(\u001b[0m\u001b[0mint\u001b[0m\u001b[0;34m)\u001b[0m\u001b[0;34m\u001b[0m\u001b[0;34m\u001b[0m\u001b[0m\n\u001b[1;32m     33\u001b[0m         \u001b[0;32melse\u001b[0m\u001b[0;34m:\u001b[0m\u001b[0;34m\u001b[0m\u001b[0;34m\u001b[0m\u001b[0m\n\u001b[0;32m---> 34\u001b[0;31m             \u001b[0mtarget\u001b[0m\u001b[0;34m[\u001b[0m\u001b[0;34m:\u001b[0m\u001b[0;34m]\u001b[0m\u001b[0;34m=\u001b[0m\u001b[0mfiringTime\u001b[0m\u001b[0;34m[\u001b[0m\u001b[0mlayer\u001b[0m\u001b[0;34m]\u001b[0m\u001b[0;34m[\u001b[0m\u001b[0;34m:\u001b[0m\u001b[0;34m]\u001b[0m\u001b[0;34m\u001b[0m\u001b[0;34m\u001b[0m\u001b[0m\n\u001b[0m\u001b[1;32m     35\u001b[0m             \u001b[0mtoChange\u001b[0m\u001b[0;34m=\u001b[0m\u001b[0;34m(\u001b[0m\u001b[0mfiringTime\u001b[0m\u001b[0;34m[\u001b[0m\u001b[0mlayer\u001b[0m\u001b[0;34m]\u001b[0m\u001b[0;34m-\u001b[0m\u001b[0mminFiring\u001b[0m\u001b[0;34m)\u001b[0m\u001b[0;34m<\u001b[0m\u001b[0mgamma\u001b[0m\u001b[0;34m\u001b[0m\u001b[0;34m\u001b[0m\u001b[0m\n\u001b[1;32m     36\u001b[0m             \u001b[0mtarget\u001b[0m\u001b[0;34m[\u001b[0m\u001b[0mtoChange\u001b[0m\u001b[0;34m]\u001b[0m\u001b[0;34m=\u001b[0m\u001b[0mmin\u001b[0m\u001b[0;34m(\u001b[0m\u001b[0mminFiring\u001b[0m\u001b[0;34m+\u001b[0m\u001b[0mgamma\u001b[0m\u001b[0;34m,\u001b[0m\u001b[0mtmax\u001b[0m\u001b[0;34m)\u001b[0m\u001b[0;34m\u001b[0m\u001b[0;34m\u001b[0m\u001b[0m\n",
      "\u001b[0;32mcupy/core/core.pyx\u001b[0m in \u001b[0;36mcupy.core.core.ndarray.__setitem__\u001b[0;34m()\u001b[0m\n",
      "\u001b[0;32mcupy/core/_routines_indexing.pyx\u001b[0m in \u001b[0;36mcupy.core._routines_indexing._ndarray_setitem\u001b[0;34m()\u001b[0m\n",
      "\u001b[0;32mcupy/core/_routines_indexing.pyx\u001b[0m in \u001b[0;36mcupy.core._routines_indexing._scatter_op\u001b[0;34m()\u001b[0m\n",
      "\u001b[0;32mcupy/core/_kernel.pyx\u001b[0m in \u001b[0;36mcupy.core._kernel.ufunc.__call__\u001b[0;34m()\u001b[0m\n",
      "\u001b[0;32mcupy/core/_kernel.pyx\u001b[0m in \u001b[0;36mcupy.core._kernel._get_out_args\u001b[0;34m()\u001b[0m\n",
      "\u001b[0;32m<__array_function__ internals>\u001b[0m in \u001b[0;36mcan_cast\u001b[0;34m(*args, **kwargs)\u001b[0m\n",
      "\u001b[0;31mKeyboardInterrupt\u001b[0m: "
     ]
    }
   ],
   "source": [
    "# Start learning\n",
    "for epoch in range(Nepoch):\n",
    "    start_time = time.time()\n",
    "    correct=cp.zeros(NumOfClasses)\n",
    "    FiringFrequency=cp.zeros((NhidenNeurons1,NhidenNeurons2))\n",
    "\n",
    "    # Start an epoch\n",
    "    for iteration in range(len(x_train)): \n",
    "        #converting input image into spiking image\n",
    "        SpikeImage[:,:,:]=0\n",
    "        SpikeImage[x[0],x[1],x_train[iteration]] = 1\n",
    "\n",
    "        #Feedforward path\n",
    "        for layer in range(Nlayers):\n",
    "            Voltage=cp.cumsum(cp.tensordot(W[layer], SpikeList[layer]),1) # Computing the voltage\n",
    "            Voltage[:,tmax]=thr[layer]+1 # Forcing the fake spike\n",
    "            firingTime[layer] = cp.argmax(Voltage>thr[layer],axis=1).astype(float)+1   # Findign the first threshold crossing  \n",
    "            firingTime[layer][firingTime[layer]>tmax]=tmax # Forcing the fake spike\n",
    "                \n",
    "            Spikes[layer][:,:,:]=0   \n",
    "            Spikes[layer][X[layer][0],X[layer][1],firingTime[layer].reshape(Nnrn[layer],1).astype(int)]=1 #converting firing times to spikes\n",
    "\n",
    "        \n",
    "        FiringFrequency =  FiringFrequency + (firingTime[0] < tmax) # FiringFrequency is used to find dead neurons\n",
    "\n",
    "        #Computing the relative target firing times\n",
    "        winner=np.argmin(firingTime[Nlayers-1]) \n",
    "        minFiring=min(firingTime[layer])\n",
    "        if minFiring == tmax:          \n",
    "            target[:]=minFiring\n",
    "            target[x_train_labels[iteration]]=minFiring-gamma\n",
    "            target=target.astype(int)\n",
    "        else:\n",
    "            target[:]=firingTime[layer][:]\n",
    "            toChange=(firingTime[layer]-minFiring)<gamma\n",
    "            target[toChange]=min(minFiring+gamma,tmax)\n",
    "            target[x_train_labels[iteration]]=minFiring\n",
    "          \n",
    "\n",
    "        #Backward path\n",
    "        layer= Nlayers-1 # Output layer\n",
    "\n",
    "        delta_o=(target-firingTime[layer])/tmax # Error in the ouput layer\n",
    "\n",
    "        #Gradient normalization\n",
    "        norm=cp.linalg.norm(delta_o)\n",
    "        if (norm!=0):\n",
    "            delta_o=delta_o/norm\n",
    "            \n",
    "        if Dropout[layer]>0:\n",
    "                firingTime[layer][cp.asarray(np.random.permutation(Nnrn[layer])[:Dropout[layer]])]=tmax\n",
    "        \n",
    "        # Updating hidden-output weights\n",
    "        hasFired_o=firingTime[layer-1]<firingTime[layer][:, cp.newaxis] # To find which hidden neurons has fired before the ouput neurons\n",
    "        W[layer][:,:,0]-=(delta_o[:, cp.newaxis]*hasFired_o*lr[layer]) # Update hidden-ouput weights \n",
    "        W[layer]-=lr[layer]*lamda[layer]*W[layer] # Weight regularization\n",
    "\n",
    "        # Backpropagating error to hidden neurons\n",
    "        delta_h2=(cp.multiply(delta_o[:, cp.newaxis]*hasFired_o, W[layer][:,:,0])).sum(axis=0) #Backpropagated errors from ouput layer to hidden layer\n",
    "        \n",
    "\n",
    "        layer= Nlayers-2 # Hidden layer     \n",
    "        \n",
    "        #Gradient normalization\n",
    "        norm=cp.linalg.norm(delta_h2)\n",
    "        if (norm!=0):\n",
    "            delta_h2=delta_h2/norm\n",
    "        # Updating hidden-hidden weights\n",
    "        hasFired_h2=firingTime[layer-1]<firingTime[layer][:, cp.newaxis] # To find which hidden neurons(layer1st) has fired before the hidden neurons(layer2nd)\n",
    "        W[layer][:,:,0]-=(delta_h2[:, cp.newaxis]*hasFired_h2*lr[layer]) # Update input-hidden weights \n",
    "        W[layer]-=lr[layer]*lamda[layer]*W[layer] # Weight regularization\n",
    "\n",
    "\n",
    "        delta_h1=(cp.multiply(delta_h2[:,cp.newaxis]*hasFired_h2, W[layer][:,:,0])).sum(axis=0) \n",
    "        layer= Nlayers-3 # Hidden layer     \n",
    "\n",
    "        \n",
    "        #Gradient normalization\n",
    "        norm=cp.linalg.norm(delta_h1)\n",
    "        if (norm!=0):\n",
    "            delta_h1=delta_h1/norm\n",
    "        # Updating input-hidden weights\n",
    "        hasFired_h1 = x_train[iteration]<firingTime[layer][:,cp.newaxis, cp.newaxis] # To find which input neurons has fired before the hidden neurons\n",
    "        W[layer]-=lr[layer]*delta_h1[:,cp.newaxis,cp.newaxis]*hasFired_h1 # Update input-hidden weights \n",
    "        W[layer]-=lr[layer]*lamda[layer]*W[layer] # Weight regularization\n",
    "\n",
    "    #Evaluating on test samples\n",
    "    correct=0 \n",
    "    for iteration in range(len(x_test)):        \n",
    "        SpikeImage[:,:,:]=0\n",
    "        SpikeImage[x[0],x[1],x_test[iteration]] = 1\n",
    "        for layer in range(Nlayers):\n",
    "            Voltage=cp.cumsum(cp.tensordot(W[layer], SpikeList[layer]),1)\n",
    "            Voltage[:,tmax]=thr[layer]+1\n",
    "            firingTime[layer] = cp.argmax(Voltage>thr[layer],axis=1).astype(float)+1     \n",
    "            firingTime[layer][firingTime[layer]>tmax]=tmax\n",
    "            Spikes[layer][:,:,:]=0   \n",
    "            Spikes[layer][X[layer][0],X[layer][1],firingTime[layer].reshape(Nnrn[layer],1).astype(int)]=1\n",
    "        minFiringTime=firingTime[Nlayers-1].min()\n",
    "        if minFiringTime==tmax:\n",
    "            V=np.argmax(Voltage[:,tmax-3])\n",
    "            if V==x_test_labels[iteration]:\n",
    "              correct+=1\n",
    "        else:\n",
    "            if firingTime[layer][x_test_labels[iteration]]==minFiringTime:\n",
    "                correct+=1           \n",
    "    testPerf=correct/len(x_test)\n",
    "   \n",
    "   \n",
    "    #Evaluating on train samples\n",
    "    correct=0 \n",
    "    for iteration in range(len(x_train)):        \n",
    "        SpikeImage[:,:,:]=0\n",
    "        SpikeImage[x[0],x[1],x_train[iteration]] = 1\n",
    "        for layer in range(Nlayers):\n",
    "            Voltage=cp.cumsum(cp.tensordot(W[layer], SpikeList[layer]),1)\n",
    "            Voltage[:,tmax]=thr[layer]+1\n",
    "            firingTime[layer] = cp.argmax(Voltage>thr[layer],axis=1).astype(float)+1     \n",
    "            firingTime[layer][firingTime[layer]>tmax]=tmax      \n",
    "            Spikes[layer][:,:,:]=0   \n",
    "            Spikes[layer][X[layer][0],X[layer][1],firingTime[layer].reshape(Nnrn[layer],1).astype(int)]=1               \n",
    "        minFiringTime=firingTime[Nlayers-1].min()\n",
    "        if minFiringTime==tmax:\n",
    "            V=np.argmax(Voltage[:,tmax-3])\n",
    "            if V==x_train_labels[iteration]:\n",
    "              correct+=1\n",
    "        else:\n",
    "            if firingTime[layer][x_train_labels[iteration]]==minFiringTime:\n",
    "                correct+=1\n",
    "    trainPerf=correct/len(x_train)  \n",
    "\n",
    "    \n",
    "    print('epoch= ', epoch, 'Perf_train= ',trainPerf, 'Perf_test= ',testPerf)\n",
    "    print(\"--- %s seconds ---\" % (time.time() - start_time))\n",
    "        \n",
    "    #To save the weights\n",
    "    if saving:\n",
    "      np.save(\"weights\", W, allow_pickle=True)\n",
    "      if testPerf>best_perf:\n",
    "        np.save(\"weights_best\", W, allow_pickle=True)\n",
    "        best_perf=val"
   ]
  },
  {
   "cell_type": "code",
   "execution_count": null,
   "metadata": {
    "colab": {},
    "colab_type": "code",
    "id": "WHO9X3YMvxW3"
   },
   "outputs": [],
   "source": []
  },
  {
   "cell_type": "code",
   "execution_count": null,
   "metadata": {
    "colab": {},
    "colab_type": "code",
    "id": "MUjogm1bvxcb"
   },
   "outputs": [],
   "source": [
    "#Evaluating the pretrained model\n",
    "LoadFrom= \"weights_pretrained.npy\"  # The pretrained model\n",
    "W=np.load(LoadFrom, allow_pickle=True)\n",
    "\n",
    "correct=0 \n",
    "for iteration in range(len(x_test)):        \n",
    "    SpikeImage[:,:,:]=0\n",
    "    SpikeImage[x[0],x[1],x_test[iteration]] = 1\n",
    "    for layer in range(Nlayers):\n",
    "        Voltage=cp.cumsum(cp.tensordot(W[layer], SpikeList[layer]),1)\n",
    "        Voltage[:,tmax]=thr[layer]+1\n",
    "        firingTime[layer] = cp.argmax(Voltage>thr[layer],axis=1).astype(float)+1     \n",
    "        firingTime[layer][firingTime[layer]>tmax]=tmax\n",
    "        Spikes[layer][:,:,:]=0   \n",
    "        Spikes[layer][X[layer][0],X[layer][1],firingTime[layer].reshape(Nnrn[layer],1).astype(int)]=1\n",
    "    minFiringTime=firingTime[Nlayers-1].min()\n",
    "    if minFiringTime==tmax:\n",
    "        V=np.argmax(Voltage[:,tmax-3])\n",
    "        if V==x_test_labels[iteration]:\n",
    "          correct+=1\n",
    "    else:\n",
    "        if firingTime[layer][x_test_labels[iteration]]==minFiringTime:\n",
    "            correct+=1           \n",
    "testPerf=correct/len(x_test)\n",
    "print('Perf_test= ',testPerf)"
   ]
  },
  {
   "cell_type": "code",
   "execution_count": null,
   "metadata": {
    "colab": {},
    "colab_type": "code",
    "id": "cJnCFJb1fVyC"
   },
   "outputs": [],
   "source": []
  }
 ],
 "metadata": {
  "accelerator": "GPU",
  "colab": {
   "collapsed_sections": [],
   "name": "Final_report.ipynb",
   "provenance": []
  },
  "kernelspec": {
   "display_name": "Python 3",
   "language": "python",
   "name": "python3"
  },
  "language_info": {
   "codemirror_mode": {
    "name": "ipython",
    "version": 3
   },
   "file_extension": ".py",
   "mimetype": "text/x-python",
   "name": "python",
   "nbconvert_exporter": "python",
   "pygments_lexer": "ipython3",
   "version": "3.7.7"
  }
 },
 "nbformat": 4,
 "nbformat_minor": 1
}
