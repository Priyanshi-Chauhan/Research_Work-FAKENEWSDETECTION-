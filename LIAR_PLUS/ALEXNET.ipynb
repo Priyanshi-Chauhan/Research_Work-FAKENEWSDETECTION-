{
 "cells": [
  {
   "cell_type": "code",
   "execution_count": 4,
   "metadata": {},
   "outputs": [
    {
     "name": "stdout",
     "output_type": "stream",
     "text": [
      "Requirement already satisfied: wordcloud in c:\\users\\hp\\anaconda3\\lib\\site-packages (1.7.0)\n",
      "Requirement already satisfied: matplotlib in c:\\users\\hp\\anaconda3\\lib\\site-packages (from wordcloud) (3.2.2)\n",
      "Requirement already satisfied: numpy>=1.6.1 in c:\\users\\hp\\anaconda3\\lib\\site-packages (from wordcloud) (1.18.5)\n",
      "Requirement already satisfied: pillow in c:\\users\\hp\\anaconda3\\lib\\site-packages (from wordcloud) (5.4.1)\n",
      "Requirement already satisfied: python-dateutil>=2.1 in c:\\users\\hp\\anaconda3\\lib\\site-packages (from matplotlib->wordcloud) (2.8.0)\n",
      "Requirement already satisfied: kiwisolver>=1.0.1 in c:\\users\\hp\\anaconda3\\lib\\site-packages (from matplotlib->wordcloud) (1.2.0)\n",
      "Requirement already satisfied: pyparsing!=2.0.4,!=2.1.2,!=2.1.6,>=2.0.1 in c:\\users\\hp\\anaconda3\\lib\\site-packages (from matplotlib->wordcloud) (2.4.7)\n",
      "Requirement already satisfied: cycler>=0.10 in c:\\users\\hp\\anaconda3\\lib\\site-packages (from matplotlib->wordcloud) (0.10.0)\n",
      "Requirement already satisfied: six>=1.5 in c:\\users\\hp\\anaconda3\\lib\\site-packages (from python-dateutil>=2.1->matplotlib->wordcloud) (1.12.0)\n"
     ]
    }
   ],
   "source": [
    "import numpy as np\n",
    "import pandas as pd \n",
    "import os\n",
    "#print(os.listdir(\"Dataset\"))\n",
    "import matplotlib.pyplot as plt\n",
    "!pip install wordcloud\n",
    "from wordcloud import WordCloud\n"
   ]
  },
  {
   "cell_type": "code",
   "execution_count": 5,
   "metadata": {},
   "outputs": [
    {
     "name": "stdout",
     "output_type": "stream",
     "text": [
      "Collecting imutils\n",
      "  Downloading imutils-0.5.3.tar.gz (17 kB)\n",
      "Building wheels for collected packages: imutils\n",
      "  Building wheel for imutils (setup.py): started\n",
      "  Building wheel for imutils (setup.py): finished with status 'done'\n",
      "  Created wheel for imutils: filename=imutils-0.5.3-py3-none-any.whl size=25856 sha256=197ff608193adcbf17af232a50c41277a857f8f54c747f020819aff50f27bdf4\n",
      "  Stored in directory: c:\\users\\hp\\appdata\\local\\pip\\cache\\wheels\\fc\\9c\\6d\\1826267c72afa51b564c9c6e0f66abc806879338bc593a2270\n",
      "Successfully built imutils\n",
      "Installing collected packages: imutils\n",
      "Successfully installed imutils-0.5.3\n"
     ]
    }
   ],
   "source": [
    "!pip install imutils"
   ]
  },
  {
   "cell_type": "code",
   "execution_count": 6,
   "metadata": {},
   "outputs": [],
   "source": [
    "from keras.preprocessing.image import ImageDataGenerator\n",
    "from keras.applications import ResNet50\n",
    "from keras.layers import AveragePooling2D\n",
    "from keras.layers import Dropout\n",
    "from keras.layers import Flatten\n",
    "from keras.layers import Dense\n",
    "from keras.layers import Input\n",
    "from keras.models import Model\n",
    "from keras.optimizers import Adam\n",
    "from keras.applications.resnet50 import preprocess_input\n",
    "from keras.preprocessing.image import img_to_array\n",
    "from keras.preprocessing.image import load_img\n",
    "from keras.utils import to_categorical\n",
    "from sklearn.preprocessing import LabelBinarizer\n",
    "from sklearn.model_selection import train_test_split\n",
    "from sklearn.metrics import classification_report\n",
    "from imutils import paths\n",
    "import matplotlib.pyplot as plt\n",
    "import numpy as np\n",
    "import os"
   ]
  },
  {
   "cell_type": "code",
   "execution_count": null,
   "metadata": {},
   "outputs": [],
   "source": []
  },
  {
   "cell_type": "code",
   "execution_count": 8,
   "metadata": {},
   "outputs": [
    {
     "name": "stdout",
     "output_type": "stream",
     "text": [
      "GloVe data loaded\n"
     ]
    }
   ],
   "source": [
    "embeddings_index = {}\n",
    "f = open('glove.6B.50d.txt',encoding=\"utf-8\")\n",
    "for line in f:\n",
    "    values = line.split(' ')\n",
    "    word = values[0] ## The first entry is the word\n",
    "    coefs = np.asarray(values[1:], dtype='float32') ## These are the vecotrs representing the embedding for the word\n",
    "    embeddings_index[word] = coefs\n",
    "f.close()\n",
    "\n",
    "print('GloVe data loaded')"
   ]
  },
  {
   "cell_type": "code",
   "execution_count": 9,
   "metadata": {},
   "outputs": [],
   "source": [
    "x=pd.read_csv(\"complete_dataset.csv\")"
   ]
  },
  {
   "cell_type": "code",
   "execution_count": 10,
   "metadata": {},
   "outputs": [
    {
     "name": "stdout",
     "output_type": "stream",
     "text": [
      "[['decline', 'coal', 'start', 'started', 'natural', 'gas', 'took', 'started', 'begin', 'president', 'george', 'w', 'bushs', 'administration', 'surovell', 'said', 'decline', 'coal', 'started', 'natural', 'gas', 'took', 'started', 'begin', 'president', 'george', 'w', 'bushs', 'administration', 'doubt', 'natural', 'gas', 'gaining', 'ground', 'coal', 'generating', 'electricity', 'trend', 'started', '1990s', 'clearly', 'gained', 'speed', 'bush', 'administration', 'production', 'natural', 'gas', 'competitor', 'coal', 'picked', 'analysts', 'give', 'little', 'credit', 'blame', 'bush', 'trend', 'note', 'factors', 'technological', 'innovation', 'entrepreneurship', 'policies', 'previous', 'administrations', 'laying', 'groundwork', 'natural', 'gas', 'boom'], ['hillary', 'clinton', 'agrees', 'john', 'mccain', 'voting', 'give', 'george', 'bush', 'benefit', 'doubt', 'iran', 'obama', 'said', 'would', 'voted', 'amendment', 'present', 'though', 'clinton', 'may', 'agreed', 'mccain', 'issue', 'technically', 'vote', 'way', 'say', 'voting', 'kyl', 'lieberman', 'giving', 'george', 'bush', 'benefit', 'doubt', 'iran', 'remains', 'contentious', 'issue', 'obama', 'main', 'point', 'clinton', 'mccain', 'side', 'correct'], ['health', 'care', 'reform', 'legislation', 'likely', 'mandate', 'free', 'sex', 'change', 'surgeries', 'release', 'may', 'point', 'mikulskis', 'comment', 'could', 'open', 'door', 'medically', 'necessary', 'coverage', 'conceivably', 'may', 'include', 'sex', 'change', 'operations', 'unclear', 'whether', 'amendment', 'remain', 'legislation', 'nothing', 'specific', 'legislation', 'sex', 'change', 'procedures', 'nothing', 'else', 'solid', 'indicates', 'coverage', 'provided', 'news', 'release', 'cherry', 'picked', 'fleeting', 'references', 'gender', 'sexual', 'orientation', 'completely', 'unrelated', 'contexts', 'argue', 'proposed', 'health', 'care', 'legislation', 'would', 'mandate', 'free', 'sex', 'change', 'surgeries', 'allow', 'illegal', 'aliens', 'less'], ['economic', 'turnaround', 'started', 'end', 'term', 'crist', 'said', 'economic', 'turnaround', 'started', 'end', 'term', 'crists', 'last', 'year', 'office', 'floridas', 'economy', 'experienced', 'notable', 'gains', 'personal', 'income', 'industrial', 'production', 'marginal', 'improvements', 'unemployment', 'rate', 'payroll', 'employment', 'gdp', 'didnt', 'grow', 'scott', 'took', 'office', 'economists', 'say', 'crist', 'deserves', 'credit', 'economic', 'turnaround', 'accepted', 'federal', 'stimulus', 'dollars', 'add', 'state', 'inevitably', 'buffeted', 'national', 'international', 'trends', 'far', 'beyond', 'control'], ['chicago', 'bears', 'starting', 'quarterbacks', 'last', '10', 'years', 'total', 'number', 'tenured', 'uw', 'faculty', 'fired', 'last', 'two', 'decades', 'vos', 'specifically', 'used', 'word', 'fired', 'means', 'faculty', 'dismissed', 'cause', 'rating', 'vos', 'said', 'chicago', 'bears', 'starting', 'quarterbacks', 'past', '10', 'years', 'number', 'uw', 'faculty', 'members', 'fired', 'past', '20', 'years', 'six', 'faculty', 'members', 'fired', 'past', 'two', 'decades', 'nine', 'different', 'starting', 'quarterbacks', 'bears', 'past', 'decade']]\n"
     ]
    }
   ],
   "source": [
    "import re\n",
    "\n",
    "## Iterate over the data to preprocess by removing stopwords\n",
    "lines_without_stopwords=[] \n",
    "for line in x: \n",
    "    line = line.lower()\n",
    "    line_by_words = re.findall(r'(?:\\w+)', line, flags = re.UNICODE) # remove punctuation ans split\n",
    "    new_line=[]\n",
    "    for word in line_by_words:\n",
    "        if word not in stop:\n",
    "            new_line.append(word)\n",
    "    lines_without_stopwords.append(new_line)\n",
    "texts = lines_without_stopwords\n",
    "\n",
    "print(texts[0:5])"
   ]
  },
  {
   "cell_type": "code",
   "execution_count": 11,
   "metadata": {},
   "outputs": [
    {
     "name": "stdout",
     "output_type": "stream",
     "text": [
      "Found 26164 unique tokens.\n"
     ]
    }
   ],
   "source": [
    "# Code adapted from (https://github.com/keras-team/keras/blob/master/examples/pretrained_word_embeddings.py)\n",
    "# Vectorize the text samples\n",
    "\n",
    "from keras.preprocessing.text import Tokenizer\n",
    "from keras.preprocessing.sequence import pad_sequences\n",
    "from keras.utils import to_categorical\n",
    "\n",
    "MAX_NUM_WORDS = 20000\n",
    "MAX_SEQUENCE_LENGTH = 64\n",
    "tokenizer = Tokenizer(num_words=MAX_NUM_WORDS)\n",
    "tokenizer.fit_on_texts(texts)\n",
    "sequences = tokenizer.texts_to_sequences(texts)\n",
    "\n",
    "word_index = tokenizer.word_index\n",
    "print('Found %s unique tokens.' % len(word_index))\n",
    "\n",
    "data = pad_sequences(sequences, maxlen=MAX_SEQUENCE_LENGTH)\n",
    "\n"
   ]
  },
  {
   "cell_type": "code",
   "execution_count": 12,
   "metadata": {},
   "outputs": [],
   "source": [
    "from sklearn.preprocessing import LabelEncoder"
   ]
  },
  {
   "cell_type": "code",
   "execution_count": 13,
   "metadata": {},
   "outputs": [],
   "source": [
    "le=LabelEncoder()"
   ]
  },
  {
   "cell_type": "code",
   "execution_count": 14,
   "metadata": {},
   "outputs": [],
   "source": [
    "y=le.fit_transform(df[\"label\"])"
   ]
  },
  {
   "cell_type": "code",
   "execution_count": 15,
   "metadata": {},
   "outputs": [
    {
     "data": {
      "text/plain": [
       "array([2, 3, 1, ..., 5, 1, 0])"
      ]
     },
     "execution_count": 15,
     "metadata": {},
     "output_type": "execute_result"
    }
   ],
   "source": [
    "y"
   ]
  },
  {
   "cell_type": "code",
   "execution_count": 16,
   "metadata": {},
   "outputs": [
    {
     "name": "stdout",
     "output_type": "stream",
     "text": [
      "(11322, 80)\n",
      "(11322, 6)\n"
     ]
    }
   ],
   "source": [
    "labels = to_categorical(np.asarray(y))\n",
    "print(data.shape)\n",
    "print(labels.shape)"
   ]
  },
  {
   "cell_type": "code",
   "execution_count": 17,
   "metadata": {},
   "outputs": [],
   "source": [
    "## More code adapted from the keras reference (https://github.com/keras-team/keras/blob/master/examples/pretrained_word_embeddings.py)\n",
    "# prepare embedding matrix \n",
    "from keras.layers import Embedding\n",
    "from keras.initializers import Constant\n",
    "\n",
    "## EMBEDDING_DIM =  ## seems to need to match the embeddings_index dimension\n",
    "EMBEDDING_DIM = embeddings_index.get('a').shape[0]\n",
    "num_words = min(MAX_NUM_WORDS, len(word_index)) + 1\n",
    "embedding_matrix = np.zeros((num_words, EMBEDDING_DIM))\n",
    "for word, i in word_index.items():\n",
    "    if i > MAX_NUM_WORDS:\n",
    "        continue\n",
    "    embedding_vector = embeddings_index.get(word) ## This references the loaded embeddings dictionary\n",
    "    if embedding_vector is not None:\n",
    "        # words not found in embedding index will be all-zeros.\n",
    "        embedding_matrix[i] = embedding_vector\n",
    "\n",
    "# load pre-trained word embeddings into an Embedding layer\n",
    "# note that we set trainable = False so as to keep the embeddings fixed\n",
    "embedding_layer = Embedding(num_words,\n",
    "                            EMBEDDING_DIM,\n",
    "                            embeddings_initializer=Constant(embedding_matrix),\n",
    "                            input_length=MAX_SEQUENCE_LENGTH,\n",
    "                            trainable=False)"
   ]
  },
  {
   "cell_type": "code",
   "execution_count": 18,
   "metadata": {},
   "outputs": [
    {
     "name": "stdout",
     "output_type": "stream",
     "text": [
      "(2501, 50)\n"
     ]
    },
    {
     "data": {
      "text/plain": [
       "Text(0.5, 1.0, 'example vectors')"
      ]
     },
     "execution_count": 18,
     "metadata": {},
     "output_type": "execute_result"
    },
    {
     "data": {
      "image/png": "[encoded data removed]",
      "text/plain": [
       "<Figure size 432x288 with 1 Axes>"
      ]
     },
     "metadata": {
      "needs_background": "light"
     },
     "output_type": "display_data"
    }
   ],
   "source": [
    "## Peeking at the embedding matrix values\n",
    "print(embedding_matrix.shape)\n",
    "plt.plot(embedding_matrix[16])\n",
    "plt.plot(embedding_matrix[37])\n",
    "plt.plot(embedding_matrix[18])\n",
    "plt.title('example vectors')"
   ]
  },
  {
   "cell_type": "code",
   "execution_count": 19,
   "metadata": {},
   "outputs": [
    {
     "name": "stdout",
     "output_type": "stream",
     "text": [
      "Model: \"sequential_1\"\n",
      "_________________________________________________________________\n",
      "Layer (type)                 Output Shape              Param #   \n",
      "=================================================================\n",
      "embedding_2 (Embedding)      (None, 80, 50)            125050    \n",
      "_________________________________________________________________\n",
      "conv1d_1 (Conv1D)            (None, 18, 96)            52896     \n",
      "_________________________________________________________________\n",
      "max_pooling1d_1 (MaxPooling1 (None, 8, 96)             0         \n",
      "_________________________________________________________________\n",
      "conv1d_2 (Conv1D)            (None, 8, 256)            123136    \n",
      "_________________________________________________________________\n",
      "max_pooling1d_2 (MaxPooling1 (None, 3, 256)            0         \n",
      "_________________________________________________________________\n",
      "conv1d_3 (Conv1D)            (None, 3, 384)            295296    \n",
      "_________________________________________________________________\n",
      "conv1d_4 (Conv1D)            (None, 3, 384)            442752    \n",
      "_________________________________________________________________\n",
      "conv1d_5 (Conv1D)            (None, 3, 256)            295168    \n",
      "_________________________________________________________________\n",
      "max_pooling1d_3 (MaxPooling1 (None, 1, 256)            0         \n",
      "_________________________________________________________________\n",
      "flatten_1 (Flatten)          (None, 256)               0         \n",
      "_________________________________________________________________\n",
      "dense_1 (Dense)              (None, 128)               32896     \n",
      "_________________________________________________________________\n",
      "dense_2 (Dense)              (None, 256)               33024     \n",
      "_________________________________________________________________\n",
      "dense_3 (Dense)              (None, 64)                16448     \n",
      "_________________________________________________________________\n",
      "dense_4 (Dense)              (None, 6)                 390       \n",
      "=================================================================\n",
      "Total params: 1,417,056\n",
      "Trainable params: 1,292,006\n",
      "Non-trainable params: 125,050\n",
      "_________________________________________________________________\n"
     ]
    }
   ],
   "source": [
    "## Code from: https://medium.com/@sabber/classifying-yelp-review-comments-using-cnn-lstm-and-pre-trained-glove-word-embeddings-part-3-53fcea9a17fa\n",
    "## To create and visualize a model\n",
    "\n",
    "from keras.models import Sequential\n",
    "from keras.layers import Dense, Flatten, LSTM, Conv1D, MaxPooling1D, Dropout, Activation\n",
    "\n",
    "model2 = Sequential()\n",
    "model2.add(Embedding(num_words, 50, input_length=80, weights= [embedding_matrix], trainable=False))\n",
    "\n",
    "model2.add(Conv1D(96, 11 ,strides = 4, activation = 'relu'))\n",
    "model2.add(MaxPooling1D(pool_size = 3, strides = 2))\n",
    "\n",
    "model2.add(Conv1D(256, 5,padding = 'same', activation = 'relu'))\n",
    "model2.add(MaxPooling1D(pool_size = 3, strides = 2))\n",
    "\n",
    "model2.add(Conv1D(384, 3,padding = 'same', activation = 'relu'))\n",
    "model2.add(Conv1D(384, 3,padding = 'same', activation = 'relu'))\n",
    "model2.add(Conv1D(256, 3,padding = 'same', activation = 'relu'))\n",
    "model2.add(MaxPooling1D(pool_size = 3,strides = 2))\n",
    "\n",
    "model2.add(Flatten())\n",
    "model2.add(Dense(128, activation = 'relu' ))\n",
    "model2.add(Dense(256,activation = 'relu'))\n",
    "model2.add(Dense(64, activation = 'relu'))\n",
    "model2.add(Dense(6, activation = 'relu'))\n",
    "\n",
    "model2.summary()"
   ]
  },
  {
   "cell_type": "code",
   "execution_count": 20,
   "metadata": {},
   "outputs": [],
   "source": [
    "\n",
    "model2.compile(loss='binary_crossentropy', optimizer='adam', metrics=['accuracy'])"
   ]
  },
  {
   "cell_type": "code",
   "execution_count": 21,
   "metadata": {},
   "outputs": [
    {
     "name": "stdout",
     "output_type": "stream",
     "text": [
      "Train on 9057 samples, validate on 2265 samples\n",
      "Epoch 1/50\n",
      "9057/9057 [==============================] - 15s 2ms/step - loss: 0.4491 - accuracy: 0.8326 - val_loss: 0.4454 - val_accuracy: 0.8333\n",
      "Epoch 2/50\n",
      "9057/9057 [==============================] - 14s 2ms/step - loss: 0.4442 - accuracy: 0.8333 - val_loss: 0.4451 - val_accuracy: 0.8333\n",
      "Epoch 3/50\n",
      "9057/9057 [==============================] - 13s 1ms/step - loss: 0.4443 - accuracy: 0.8333 - val_loss: 0.4473 - val_accuracy: 0.8333\n",
      "Epoch 4/50\n",
      "9057/9057 [==============================] - 13s 1ms/step - loss: 0.4444 - accuracy: 0.8333 - val_loss: 0.4448 - val_accuracy: 0.8333\n",
      "Epoch 5/50\n",
      "9057/9057 [==============================] - 13s 1ms/step - loss: 0.4422 - accuracy: 0.8332 - val_loss: 0.4410 - val_accuracy: 0.8333\n",
      "Epoch 6/50\n",
      "9057/9057 [==============================] - 13s 1ms/step - loss: 0.4432 - accuracy: 0.8333 - val_loss: 0.4628 - val_accuracy: 0.8319\n",
      "Epoch 7/50\n",
      "9057/9057 [==============================] - 13s 1ms/step - loss: 0.4414 - accuracy: 0.8333 - val_loss: 0.4406 - val_accuracy: 0.8333\n",
      "Epoch 8/50\n",
      "9057/9057 [==============================] - 13s 1ms/step - loss: 0.4416 - accuracy: 0.8333 - val_loss: 0.4444 - val_accuracy: 0.8333\n",
      "Epoch 9/50\n",
      "9057/9057 [==============================] - 13s 1ms/step - loss: 0.4359 - accuracy: 0.8333 - val_loss: 0.4570 - val_accuracy: 0.8330\n",
      "Epoch 10/50\n",
      "9057/9057 [==============================] - 13s 1ms/step - loss: 0.4359 - accuracy: 0.8334 - val_loss: 0.4434 - val_accuracy: 0.8333\n",
      "Epoch 11/50\n",
      "9057/9057 [==============================] - 13s 1ms/step - loss: 0.4316 - accuracy: 0.8337 - val_loss: 0.5564 - val_accuracy: 0.8301\n",
      "Epoch 12/50\n",
      "9057/9057 [==============================] - 13s 1ms/step - loss: 0.4384 - accuracy: 0.8334 - val_loss: 0.4803 - val_accuracy: 0.8327\n",
      "Epoch 13/50\n",
      "9057/9057 [==============================] - 14s 1ms/step - loss: 0.4267 - accuracy: 0.8341 - val_loss: 0.4621 - val_accuracy: 0.8316\n",
      "Epoch 14/50\n",
      "9057/9057 [==============================] - 14s 1ms/step - loss: 0.4198 - accuracy: 0.8343 - val_loss: 0.4561 - val_accuracy: 0.8329\n",
      "Epoch 15/50\n",
      "9057/9057 [==============================] - 14s 1ms/step - loss: 0.4270 - accuracy: 0.8342 - val_loss: 0.5721 - val_accuracy: 0.8287\n",
      "Epoch 16/50\n",
      "9057/9057 [==============================] - 13s 1ms/step - loss: 0.4098 - accuracy: 0.8351 - val_loss: 0.5916 - val_accuracy: 0.8294\n",
      "Epoch 17/50\n",
      "9057/9057 [==============================] - 13s 1ms/step - loss: 0.4104 - accuracy: 0.8350 - val_loss: 0.5171 - val_accuracy: 0.8294\n",
      "Epoch 18/50\n",
      "9057/9057 [==============================] - 13s 1ms/step - loss: 0.3909 - accuracy: 0.8376 - val_loss: 0.5383 - val_accuracy: 0.8322\n",
      "Epoch 19/50\n",
      "9057/9057 [==============================] - 13s 1ms/step - loss: 0.3976 - accuracy: 0.8364 - val_loss: 0.4599 - val_accuracy: 0.8333\n",
      "Epoch 20/50\n",
      "9057/9057 [==============================] - 14s 1ms/step - loss: 0.3849 - accuracy: 0.8391 - val_loss: 0.6097 - val_accuracy: 0.8298\n",
      "Epoch 21/50\n",
      "9057/9057 [==============================] - 14s 2ms/step - loss: 0.3907 - accuracy: 0.8388 - val_loss: 0.7247 - val_accuracy: 0.8279\n",
      "Epoch 22/50\n",
      "9057/9057 [==============================] - 13s 1ms/step - loss: 0.3889 - accuracy: 0.8400 - val_loss: 0.7315 - val_accuracy: 0.8249\n",
      "Epoch 23/50\n",
      "9057/9057 [==============================] - 13s 1ms/step - loss: 0.4013 - accuracy: 0.8398 - val_loss: 0.6431 - val_accuracy: 0.8260\n",
      "Epoch 24/50\n",
      "9057/9057 [==============================] - 13s 1ms/step - loss: 0.3843 - accuracy: 0.8411 - val_loss: 0.6108 - val_accuracy: 0.8272\n",
      "Epoch 25/50\n",
      "9057/9057 [==============================] - 13s 1ms/step - loss: 0.3697 - accuracy: 0.8428 - val_loss: 0.5936 - val_accuracy: 0.8235\n",
      "Epoch 26/50\n",
      "9057/9057 [==============================] - 13s 1ms/step - loss: 0.3982 - accuracy: 0.8391 - val_loss: 0.6481 - val_accuracy: 0.8267\n",
      "Epoch 27/50\n",
      "9057/9057 [==============================] - 13s 1ms/step - loss: 0.3536 - accuracy: 0.8444 - val_loss: 0.8599 - val_accuracy: 0.8174\n",
      "Epoch 28/50\n",
      "9057/9057 [==============================] - 13s 1ms/step - loss: 0.3803 - accuracy: 0.8419 - val_loss: 0.7308 - val_accuracy: 0.8248\n",
      "Epoch 29/50\n",
      "9057/9057 [==============================] - 14s 1ms/step - loss: 0.3600 - accuracy: 0.8441 - val_loss: 0.7187 - val_accuracy: 0.8235\n",
      "Epoch 30/50\n",
      "9057/9057 [==============================] - 13s 1ms/step - loss: 0.3684 - accuracy: 0.8437 - val_loss: 0.8861 - val_accuracy: 0.8146\n",
      "Epoch 31/50\n",
      "9057/9057 [==============================] - 13s 1ms/step - loss: 0.3275 - accuracy: 0.8460 - val_loss: 0.8940 - val_accuracy: 0.8189\n",
      "Epoch 32/50\n",
      "9057/9057 [==============================] - 13s 1ms/step - loss: 0.3287 - accuracy: 0.8488 - val_loss: 1.0116 - val_accuracy: 0.8169\n",
      "Epoch 33/50\n",
      "9057/9057 [==============================] - 13s 1ms/step - loss: 0.3526 - accuracy: 0.8457 - val_loss: 0.4600 - val_accuracy: 0.8331\n",
      "Epoch 34/50\n",
      "9057/9057 [==============================] - 13s 1ms/step - loss: 0.3794 - accuracy: 0.8445 - val_loss: 0.9953 - val_accuracy: 0.8191\n",
      "Epoch 35/50\n",
      "9057/9057 [==============================] - 13s 1ms/step - loss: 0.3463 - accuracy: 0.8449 - val_loss: 0.9587 - val_accuracy: 0.8018\n",
      "Epoch 36/50\n",
      "9057/9057 [==============================] - 13s 1ms/step - loss: 0.3546 - accuracy: 0.8424 - val_loss: 0.8813 - val_accuracy: 0.8249\n",
      "Epoch 37/50\n",
      "9057/9057 [==============================] - 14s 2ms/step - loss: 0.3340 - accuracy: 0.8470 - val_loss: 1.1363 - val_accuracy: 0.8134\n",
      "Epoch 38/50\n",
      "9057/9057 [==============================] - 13s 1ms/step - loss: 0.3879 - accuracy: 0.8406 - val_loss: 0.4483 - val_accuracy: 0.8333\n",
      "Epoch 39/50\n",
      "9057/9057 [==============================] - 13s 1ms/step - loss: 0.4114 - accuracy: 0.8391 - val_loss: 0.7457 - val_accuracy: 0.8271\n",
      "Epoch 40/50\n",
      "9057/9057 [==============================] - 13s 1ms/step - loss: 0.3752 - accuracy: 0.8437 - val_loss: 0.7669 - val_accuracy: 0.8297\n",
      "Epoch 41/50\n",
      "9057/9057 [==============================] - 13s 1ms/step - loss: 0.3475 - accuracy: 0.8446 - val_loss: 0.9964 - val_accuracy: 0.8263\n",
      "Epoch 42/50\n",
      "9057/9057 [==============================] - 13s 1ms/step - loss: 0.3381 - accuracy: 0.8433 - val_loss: 1.0274 - val_accuracy: 0.8115\n",
      "Epoch 43/50\n",
      "9057/9057 [==============================] - 13s 1ms/step - loss: 0.3156 - accuracy: 0.8460 - val_loss: 0.8260 - val_accuracy: 0.8198\n",
      "Epoch 44/50\n",
      "9057/9057 [==============================] - 13s 1ms/step - loss: 0.3157 - accuracy: 0.8451 - val_loss: 1.1870 - val_accuracy: 0.7989\n",
      "Epoch 45/50\n",
      "9057/9057 [==============================] - 13s 1ms/step - loss: 0.4037 - accuracy: 0.8377 - val_loss: 0.6954 - val_accuracy: 0.8272\n",
      "Epoch 46/50\n",
      "9057/9057 [==============================] - 13s 1ms/step - loss: 0.3307 - accuracy: 0.8473 - val_loss: 1.1204 - val_accuracy: 0.8103\n",
      "Epoch 47/50\n",
      "9057/9057 [==============================] - 14s 2ms/step - loss: 0.3461 - accuracy: 0.8467 - val_loss: 0.7642 - val_accuracy: 0.8169\n",
      "Epoch 48/50\n",
      "9057/9057 [==============================] - 16s 2ms/step - loss: 0.4473 - accuracy: 0.8380 - val_loss: 0.9864 - val_accuracy: 0.8164\n",
      "Epoch 49/50\n",
      "9057/9057 [==============================] - 16s 2ms/step - loss: 0.3593 - accuracy: 0.8433 - val_loss: 0.9495 - val_accuracy: 0.8214\n",
      "Epoch 50/50\n",
      "9057/9057 [==============================] - 15s 2ms/step - loss: 0.3197 - accuracy: 0.8465 - val_loss: 0.7333 - val_accuracy: 0.8227\n"
     ]
    }
   ],
   "source": [
    "epochs = 50\n",
    "batch_size = 15\n",
    "\n",
    "history2 = model2.fit(data, labels, epochs=epochs, batch_size=batch_size,validation_split = 0.2)\n"
   ]
  },
  {
   "cell_type": "code",
   "execution_count": 22,
   "metadata": {},
   "outputs": [
    {
     "data": {
      "text/plain": [
       "array([0, 1, 2, 3, 4, 5])"
      ]
     },
     "execution_count": 22,
     "metadata": {},
     "output_type": "execute_result"
    }
   ],
   "source": [
    "np.unique(y)"
   ]
  },
  {
   "cell_type": "code",
   "execution_count": 23,
   "metadata": {},
   "outputs": [],
   "source": [
    "# initialize the initial learning rate, number of epochs to train for,\n",
    "# and batch size\n",
    "INIT_LR = 1e-4\n",
    "EPOCHS =10\n",
    "BS = 32"
   ]
  },
  {
   "cell_type": "code",
   "execution_count": 24,
   "metadata": {},
   "outputs": [],
   "source": [
    "model = Sequential()\n",
    "model.add(Embedding(num_words, 50, input_length=80, weights= [embedding_matrix], trainable=False))\n"
   ]
  },
  {
   "cell_type": "code",
   "execution_count": 25,
   "metadata": {},
   "outputs": [
    {
     "ename": "NameError",
     "evalue": "name 'baseModel' is not defined",
     "output_type": "error",
     "traceback": [
      "\u001b[0;31m---------------------------------------------------------------------------\u001b[0m",
      "\u001b[0;31mNameError\u001b[0m                                 Traceback (most recent call last)",
      "\u001b[0;32m<ipython-input-25-6a8b9b1b4232>\u001b[0m in \u001b[0;36m<module>\u001b[0;34m\u001b[0m\n\u001b[0;32m----> 1\u001b[0;31m \u001b[0;32mfor\u001b[0m \u001b[0mlayer\u001b[0m \u001b[0;32min\u001b[0m \u001b[0mbaseModel\u001b[0m\u001b[0;34m.\u001b[0m\u001b[0mlayers\u001b[0m\u001b[0;34m:\u001b[0m\u001b[0;34m\u001b[0m\u001b[0;34m\u001b[0m\u001b[0m\n\u001b[0m\u001b[1;32m      2\u001b[0m         \u001b[0mlayer\u001b[0m\u001b[0;34m.\u001b[0m\u001b[0mtrainable\u001b[0m \u001b[0;34m=\u001b[0m \u001b[0;32mFalse\u001b[0m\u001b[0;34m\u001b[0m\u001b[0;34m\u001b[0m\u001b[0m\n\u001b[1;32m      3\u001b[0m \u001b[0;34m\u001b[0m\u001b[0m\n\u001b[1;32m      4\u001b[0m \u001b[0;31m# compile our model\u001b[0m\u001b[0;34m\u001b[0m\u001b[0;34m\u001b[0m\u001b[0;34m\u001b[0m\u001b[0m\n\u001b[1;32m      5\u001b[0m \u001b[0mprint\u001b[0m\u001b[0;34m(\u001b[0m\u001b[0;34m\"[INFO] compiling model...\"\u001b[0m\u001b[0;34m)\u001b[0m\u001b[0;34m\u001b[0m\u001b[0;34m\u001b[0m\u001b[0m\n",
      "\u001b[0;31mNameError\u001b[0m: name 'baseModel' is not defined"
     ]
    }
   ],
   "source": [
    "for layer in baseModel.layers:\n",
    "\tlayer.trainable = False\n",
    "\n",
    "# compile our model\n",
    "print(\"[INFO] compiling model...\")\n",
    "opt = Adam(lr=INIT_LR, decay=INIT_LR / EPOCHS)\n",
    "model.compile(loss=\"binary_crossentropy\", optimizer=opt,\n",
    "\tmetrics=[\"accuracy\"])"
   ]
  },
  {
   "cell_type": "code",
   "execution_count": null,
   "metadata": {},
   "outputs": [],
   "source": [
    "model.fit(data, np.array(labels), validation_split=0.2, epochs = 10)\n"
   ]
  },
  {
   "cell_type": "code",
   "execution_count": null,
   "metadata": {},
   "outputs": [],
   "source": [
    "data[0].shape"
   ]
  },
  {
   "cell_type": "code",
   "execution_count": null,
   "metadata": {},
   "outputs": [],
   "source": []
  }
 ],
 "metadata": {
  "kernelspec": {
   "display_name": "Python 3",
   "language": "python",
   "name": "python3"
  },
  "language_info": {
   "codemirror_mode": {
    "name": "ipython",
    "version": 3
   },
   "file_extension": ".py",
   "mimetype": "text/x-python",
   "name": "python",
   "nbconvert_exporter": "python",
   "pygments_lexer": "ipython3",
   "version": "3.7.7"
  }
 },
 "nbformat": 4,
 "nbformat_minor": 4
}
